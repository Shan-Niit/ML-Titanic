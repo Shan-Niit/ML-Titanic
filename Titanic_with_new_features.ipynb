{
  "nbformat": 4,
  "nbformat_minor": 0,
  "metadata": {
    "colab": {
      "provenance": []
    },
    "kernelspec": {
      "name": "python3",
      "display_name": "Python 3"
    },
    "language_info": {
      "name": "python"
    }
  },
  "cells": [
    {
      "cell_type": "markdown",
      "source": [
        "# Enhanced Model with New Features"
      ],
      "metadata": {
        "id": "EXPaNA0CusLC"
      }
    },
    {
      "cell_type": "markdown",
      "source": [
        "## Importing the libraries"
      ],
      "metadata": {
        "id": "gUZy-aQIyjGb"
      }
    },
    {
      "cell_type": "code",
      "execution_count": 1,
      "metadata": {
        "id": "y-pkRhnNnkzr"
      },
      "outputs": [],
      "source": [
        "import pandas as pd\n",
        "from sklearn.ensemble import RandomForestRegressor\n",
        "from sklearn.preprocessing import StandardScaler, OneHotEncoder\n",
        "from sklearn.compose import ColumnTransformer\n",
        "from sklearn.pipeline import Pipeline\n",
        "from sklearn.impute import SimpleImputer\n",
        "import warnings\n",
        "warnings.filterwarnings('ignore')"
      ]
    },
    {
      "cell_type": "markdown",
      "source": [
        "## Importing the dataset"
      ],
      "metadata": {
        "id": "3gNswZxWypTW"
      }
    },
    {
      "cell_type": "code",
      "source": [
        "# Load Titanic data\n",
        "df = pd.read_csv('/content/train.csv')\n",
        "\n",
        "# Drop rows where 'Embarked' is missing (only 2 rows)\n",
        "df = df.dropna(subset=['Embarked'])\n"
      ],
      "metadata": {
        "id": "5JDGJ1vux_DN"
      },
      "execution_count": 2,
      "outputs": []
    },
    {
      "cell_type": "markdown",
      "source": [
        "##Model to predict the missing data for age (+20% of the rows) depending of the other variables"
      ],
      "metadata": {
        "id": "7c-6qa2oyhYO"
      }
    },
    {
      "cell_type": "code",
      "source": [
        "# Features to help predict Age\n",
        "features_for_age = ['Pclass', 'Sex', 'SibSp', 'Parch', 'Fare', 'Embarked']\n",
        "\n",
        "# Create a temporary DataFrame with one-hot encoding\n",
        "df_temp = pd.get_dummies(df[features_for_age + ['Age']], drop_first=True)\n",
        "\n",
        "# Split into known and missing Age\n",
        "df_age_known = df_temp[df_temp['Age'].notnull()]\n",
        "df_age_missing = df_temp[df_temp['Age'].isnull()]\n",
        "\n",
        "# Train the model\n",
        "X_age = df_age_known.drop('Age', axis=1)\n",
        "y_age = df_age_known['Age']\n",
        "\n",
        "rfr = RandomForestRegressor(n_estimators=100, random_state=42)\n",
        "rfr.fit(X_age, y_age)\n",
        "\n",
        "# Predict missing ages\n",
        "X_missing_age = df_age_missing.drop('Age', axis=1)\n",
        "predicted_ages = rfr.predict(X_missing_age)\n",
        "\n",
        "# Fill back into the original DataFrame\n",
        "df.loc[df['Age'].isnull(), 'Age'] = predicted_ages"
      ],
      "metadata": {
        "id": "gl4Ju-W0x-9w",
        "collapsed": true
      },
      "execution_count": 3,
      "outputs": []
    },
    {
      "cell_type": "markdown",
      "source": [
        "##New feature \"Title\" with the \"Name\"\n",
        "\n",
        "\n"
      ],
      "metadata": {
        "id": "KjzuIwedkQoL"
      }
    },
    {
      "cell_type": "code",
      "source": [
        "# Extract title\n",
        "df['Title'] = df['Name'].str.extract(' ([A-Za-z]+)\\.', expand=False)\n",
        "\n",
        "# Simplify titles\n",
        "df['Title'] = df['Title'].replace(['Lady', 'Countess', 'Capt', 'Col',\n",
        "                                   'Don', 'Dr', 'Major', 'Rev', 'Sir',\n",
        "                                   'Jonkheer', 'Dona'], 'Rare')\n",
        "\n",
        "df['Title'] = df['Title'].replace({'Mlle': 'Miss', 'Ms': 'Miss', 'Mme': 'Mrs'})\n",
        "\n",
        "print(df['Title'].value_counts())\n"
      ],
      "metadata": {
        "colab": {
          "base_uri": "https://localhost:8080/"
        },
        "id": "04t4Nnlcj0gD",
        "outputId": "a978e4d6-9d30-4601-a50d-1b5a97d7e50f"
      },
      "execution_count": 4,
      "outputs": [
        {
          "output_type": "stream",
          "name": "stdout",
          "text": [
            "Title\n",
            "Mr        517\n",
            "Miss      184\n",
            "Mrs       125\n",
            "Master     40\n",
            "Rare       23\n",
            "Name: count, dtype: int64\n"
          ]
        }
      ]
    },
    {
      "cell_type": "markdown",
      "source": [
        "##New feature \"FamilySize\" and \"IsAlone\"\n"
      ],
      "metadata": {
        "id": "fFDF-HAIk9fc"
      }
    },
    {
      "cell_type": "code",
      "source": [
        "# Create FamilySize\n",
        "df['FamilySize'] = df['SibSp'] + df['Parch'] + 1\n",
        "\n",
        "# Create IsAlone\n",
        "df['IsAlone'] = 0\n",
        "df.loc[df['FamilySize'] == 1, 'IsAlone'] = 1\n",
        "\n",
        "# print(df[['SibSp', 'Parch', 'FamilySize', 'IsAlone']].head())\n"
      ],
      "metadata": {
        "id": "zY8bOhSAkGoW"
      },
      "execution_count": 5,
      "outputs": []
    },
    {
      "cell_type": "markdown",
      "source": [
        "## New features: \"FareBin\" and \"AgeBin\"\n",
        "\n",
        "Since these features are derived from \"Fare\" and \"Age\", they are naturally correlated. To avoid potential redundancy or bias in the model, I will test both options:\n",
        "- One version using the original \"Fare\" and \"Age\"\n",
        "- Another version using the binned features \"FareBin\" and \"AgeBin\"\n",
        "\n",
        "I will keep the version that gives the best accuracy.\n",
        "\n",
        "- Best Accuracy without theses features : **Test accuracy for DecisionTree: 0.8202**\n",
        "- Best Accuracy with theses features(without Age and Fare) : **Test accuracy for XGBoost: 0.7921**\n",
        "- Best Accuracy with all the features : **Test accuracy for GradientBoosting: 0.8202**\n",
        "\n",
        "Then we can keep all the features but the Accuracy stay the same."
      ],
      "metadata": {
        "id": "ell6LMiOnbpg"
      }
    },
    {
      "cell_type": "code",
      "source": [
        "# AgeBand: split into 5 roughly equal-sized bins\n",
        "df['AgeBand'] = pd.cut(df['Age'], 5)\n",
        "\n",
        "# Create AgeBin (numeric version for modeling)\n",
        "df['AgeBin'] = pd.cut(df['Age'], 5, labels=[0, 1, 2, 3, 4]).astype(int)\n",
        "\n",
        "# FareBand: split into 4 quantile-based bins\n",
        "df['FareBand'] = pd.qcut(df['Fare'], 4)\n",
        "\n",
        "# Create FareBin (numeric version for modeling)\n",
        "df['FareBin'] = pd.qcut(df['Fare'], 4, labels=[0, 1, 2, 3]).astype(int)\n",
        "\n",
        "# print(df[['Age', 'AgeBand', 'AgeBin', 'Fare', 'FareBand', 'FareBin']].head())\n"
      ],
      "metadata": {
        "id": "X4LUbMHDnbAr"
      },
      "execution_count": 6,
      "outputs": []
    },
    {
      "cell_type": "markdown",
      "source": [
        "## Preprocessing pipeline"
      ],
      "metadata": {
        "id": "iB3tjaRdzFvR"
      }
    },
    {
      "cell_type": "code",
      "source": [
        "# Define features and target\n",
        "X = df[['Pclass', 'Sex', 'SibSp', 'Parch', 'Embarked', 'Title', \"IsAlone\", \"FamilySize\", \"FareBin\", \"AgeBin\", \"Age\", \"Fare\"]] #\"Cabin\" has too many NA values to be used\n",
        "y = df['Survived']\n",
        "\n",
        "# Column groups\n",
        "numeric_features = ['SibSp', 'Parch', \"FamilySize\", \"Age\", \"Fare\"]\n",
        "categorical_features = ['Pclass', 'Sex', 'Embarked', 'Title', \"IsAlone\", \"FareBin\", \"AgeBin\" ]\n",
        "\n",
        "# Pipelines\n",
        "numeric_pipeline = Pipeline([\n",
        "    ('scaler', StandardScaler())\n",
        "])\n",
        "\n",
        "categorical_pipeline = Pipeline([\n",
        "    ('encoder', OneHotEncoder(handle_unknown='ignore'))\n",
        "])\n",
        "\n",
        "# Combine pipelines\n",
        "preprocessor = ColumnTransformer([\n",
        "    ('num', numeric_pipeline, numeric_features),\n",
        "    ('cat', categorical_pipeline, categorical_features)\n",
        "])\n",
        "\n",
        "# Apply transformations\n",
        "X_prepro = preprocessor.fit_transform(X)\n",
        "\n",
        "# Get column names\n",
        "num_cols = numeric_features\n",
        "cat_cols = preprocessor.named_transformers_['cat']['encoder'].get_feature_names_out(categorical_features)\n",
        "all_columns = list(num_cols) + list(cat_cols)\n",
        "\n",
        "# Wrap in DataFrame\n",
        "X_final = pd.DataFrame(X_prepro, columns=all_columns)\n",
        "\n",
        "# Optional: display the result\n",
        "print(X_final.head())\n"
      ],
      "metadata": {
        "colab": {
          "base_uri": "https://localhost:8080/"
        },
        "id": "mvLYx6yxx-6Y",
        "outputId": "f0892cc8-e98e-4dec-fcd6-b43968990c26"
      },
      "execution_count": 7,
      "outputs": [
        {
          "output_type": "stream",
          "name": "stdout",
          "text": [
            "      SibSp     Parch  FamilySize       Age      Fare  Pclass_1  Pclass_2  \\\n",
            "0  0.431350 -0.474326    0.057853 -0.545560 -0.500240       0.0       0.0   \n",
            "1  0.431350 -0.474326    0.057853  0.619174  0.788947       1.0       0.0   \n",
            "2 -0.475199 -0.474326   -0.561804 -0.254377 -0.486650       0.0       0.0   \n",
            "3  0.431350 -0.474326    0.057853  0.400786  0.422861       1.0       0.0   \n",
            "4 -0.475199 -0.474326   -0.561804  0.400786 -0.484133       0.0       0.0   \n",
            "\n",
            "   Pclass_3  Sex_female  Sex_male  ...  IsAlone_1  FareBin_0  FareBin_1  \\\n",
            "0       1.0         0.0       1.0  ...        0.0        1.0        0.0   \n",
            "1       0.0         1.0       0.0  ...        0.0        0.0        0.0   \n",
            "2       1.0         1.0       0.0  ...        1.0        0.0        1.0   \n",
            "3       0.0         1.0       0.0  ...        0.0        0.0        0.0   \n",
            "4       1.0         0.0       1.0  ...        1.0        0.0        1.0   \n",
            "\n",
            "   FareBin_2  FareBin_3  AgeBin_0  AgeBin_1  AgeBin_2  AgeBin_3  AgeBin_4  \n",
            "0        0.0        0.0       0.0       1.0       0.0       0.0       0.0  \n",
            "1        0.0        1.0       0.0       0.0       1.0       0.0       0.0  \n",
            "2        0.0        0.0       0.0       1.0       0.0       0.0       0.0  \n",
            "3        0.0        1.0       0.0       0.0       1.0       0.0       0.0  \n",
            "4        0.0        0.0       0.0       0.0       1.0       0.0       0.0  \n",
            "\n",
            "[5 rows x 29 columns]\n"
          ]
        }
      ]
    },
    {
      "cell_type": "markdown",
      "source": [
        "##Import the models"
      ],
      "metadata": {
        "id": "HnWCyQ8xd5fy"
      }
    },
    {
      "cell_type": "code",
      "source": [
        "from sklearn.ensemble import GradientBoostingClassifier\n",
        "from sklearn.ensemble import ExtraTreesClassifier\n",
        "from sklearn.ensemble import VotingClassifier\n",
        "from sklearn.ensemble import RandomForestClassifier\n",
        "from sklearn.tree import DecisionTreeClassifier\n",
        "from sklearn.svm import SVC\n",
        "from sklearn.neighbors import KNeighborsClassifier\n",
        "from sklearn.neural_network import MLPClassifier\n",
        "from xgboost import XGBClassifier"
      ],
      "metadata": {
        "id": "pGv-KZ67d5FH"
      },
      "execution_count": 8,
      "outputs": []
    },
    {
      "cell_type": "markdown",
      "source": [
        "##Define models and their hyperparameters"
      ],
      "metadata": {
        "id": "vR2Hr1myeBuX"
      }
    },
    {
      "cell_type": "code",
      "source": [
        "model_params = {\n",
        "    'SVC': {\n",
        "        'model': SVC(probability=True, random_state=42),\n",
        "        'params': {\n",
        "            'model__C': [0.1, 1, 10],\n",
        "            'model__kernel': ['linear', 'rbf']\n",
        "        }\n",
        "    },\n",
        "    'RandomForest': {\n",
        "        'model': RandomForestClassifier(random_state=42),\n",
        "        'params': {\n",
        "            'model__n_estimators': [100, 200],\n",
        "            'model__max_depth': [None, 5, 10]\n",
        "        }\n",
        "    },\n",
        "    'XGBoost': {\n",
        "        'model': XGBClassifier(use_label_encoder=False, eval_metric='logloss', random_state=42),\n",
        "        'params': {\n",
        "            'model__n_estimators': [100, 200],\n",
        "            'model__max_depth': [3, 5],\n",
        "            'model__learning_rate': [0.05, 0.1]\n",
        "        }\n",
        "    },\n",
        "    'MLP': {\n",
        "        'model': MLPClassifier(max_iter=500, random_state=42),\n",
        "        'params': {\n",
        "            'model__hidden_layer_sizes': [(100,), (50, 50)],\n",
        "            'model__alpha': [0.0001, 0.001]\n",
        "        }\n",
        "    },\n",
        "    'KNN': {\n",
        "        'model': KNeighborsClassifier(),\n",
        "        'params': {\n",
        "            'model__n_neighbors': [3, 5, 7],\n",
        "            'model__weights': ['uniform', 'distance']\n",
        "        }\n",
        "    },\n",
        "    'DecisionTree': {\n",
        "        'model': DecisionTreeClassifier(random_state=42),\n",
        "        'params': {\n",
        "            'model__max_depth': [None, 5, 10],\n",
        "            'model__criterion': ['gini', 'entropy']\n",
        "        }\n",
        "    },\n",
        "    'ExtraTrees': {\n",
        "        'model': ExtraTreesClassifier(random_state=42),\n",
        "        'params': {\n",
        "            'model__n_estimators': [100, 200],\n",
        "            'model__max_depth': [None, 5, 10]\n",
        "        }\n",
        "    },\n",
        "    'GradientBoosting': {\n",
        "        'model': GradientBoostingClassifier(random_state=42),\n",
        "        'params': {\n",
        "            'model__n_estimators': [100, 200],\n",
        "            'model__learning_rate': [0.05, 0.1],\n",
        "            'model__max_depth': [3, 5]\n",
        "        }\n",
        "    },\n",
        "    'Voting': {\n",
        "        'model': VotingClassifier(\n",
        "            estimators=[\n",
        "                ('svc', SVC(probability=True, random_state=42)),\n",
        "                ('rf', RandomForestClassifier(random_state=42)),\n",
        "                ('xgb', XGBClassifier(use_label_encoder=False, eval_metric='logloss', random_state=42)),\n",
        "                ('mlp', MLPClassifier(max_iter=500, random_state=42))\n",
        "            ],\n",
        "            voting='soft'\n",
        "        ),\n",
        "        'params': {}  # No hyperparameters to tune here directly\n",
        "    }\n",
        "}"
      ],
      "metadata": {
        "collapsed": true,
        "id": "JLUrXiaovYCz"
      },
      "execution_count": 9,
      "outputs": []
    },
    {
      "cell_type": "markdown",
      "source": [
        "## Split the data"
      ],
      "metadata": {
        "id": "ycvMotRhekBS"
      }
    },
    {
      "cell_type": "code",
      "source": [
        "from sklearn.model_selection import train_test_split\n",
        "X_train, X_test, y_train, y_test = train_test_split(X, y, test_size=0.2, random_state=42)\n"
      ],
      "metadata": {
        "id": "erdWXRUCexri"
      },
      "execution_count": 10,
      "outputs": []
    },
    {
      "cell_type": "markdown",
      "source": [
        "## Loop on all the models to find the best parameters with a cross validation"
      ],
      "metadata": {
        "id": "uI1K6DThe3Z8"
      }
    },
    {
      "cell_type": "code",
      "source": [
        "from sklearn.model_selection import cross_val_score\n",
        "from sklearn.model_selection import GridSearchCV\n",
        "\n",
        "best_models = {}\n",
        "\n",
        "for name, mp in model_params.items():\n",
        "    pipe = Pipeline([\n",
        "        ('preprocessing', preprocessor),\n",
        "        ('model', mp['model'])\n",
        "    ])\n",
        "\n",
        "    clf = GridSearchCV(pipe, mp['params'], cv=5, n_jobs=-1, scoring='accuracy')\n",
        "    clf.fit(X_train, y_train)\n",
        "\n",
        "    print(f\"Best parameters for {name}: {clf.best_params_}\")\n",
        "    print(f\"Validation Accuracy for {name}: {clf.best_score_:.4f}\")\n",
        "\n",
        "    best_models[name] = clf.best_estimator_"
      ],
      "metadata": {
        "id": "RFMj_Ce8n3AX",
        "colab": {
          "base_uri": "https://localhost:8080/"
        },
        "outputId": "d92ad6ed-844f-4bf9-b4c9-f55ce59f8615"
      },
      "execution_count": 11,
      "outputs": [
        {
          "output_type": "stream",
          "name": "stdout",
          "text": [
            "Best parameters for SVC: {'model__C': 10, 'model__kernel': 'rbf'}\n",
            "Validation Accuracy for SVC: 0.8368\n",
            "Best parameters for RandomForest: {'model__max_depth': 10, 'model__n_estimators': 200}\n",
            "Validation Accuracy for RandomForest: 0.8425\n",
            "Best parameters for XGBoost: {'model__learning_rate': 0.05, 'model__max_depth': 5, 'model__n_estimators': 100}\n",
            "Validation Accuracy for XGBoost: 0.8383\n",
            "Best parameters for MLP: {'model__alpha': 0.001, 'model__hidden_layer_sizes': (100,)}\n",
            "Validation Accuracy for MLP: 0.8383\n",
            "Best parameters for KNN: {'model__n_neighbors': 7, 'model__weights': 'uniform'}\n",
            "Validation Accuracy for KNN: 0.8270\n",
            "Best parameters for DecisionTree: {'model__criterion': 'entropy', 'model__max_depth': 5}\n",
            "Validation Accuracy for DecisionTree: 0.8144\n",
            "Best parameters for ExtraTrees: {'model__max_depth': 5, 'model__n_estimators': 100}\n",
            "Validation Accuracy for ExtraTrees: 0.8326\n",
            "Best parameters for GradientBoosting: {'model__learning_rate': 0.05, 'model__max_depth': 3, 'model__n_estimators': 100}\n",
            "Validation Accuracy for GradientBoosting: 0.8354\n",
            "Best parameters for Voting: {}\n",
            "Validation Accuracy for Voting: 0.8411\n"
          ]
        }
      ]
    },
    {
      "cell_type": "markdown",
      "source": [
        "## Display accuracy with the best parameters for each model"
      ],
      "metadata": {
        "id": "NIYwQkV4fU5Y"
      }
    },
    {
      "cell_type": "code",
      "source": [
        "from sklearn.metrics import accuracy_score\n",
        "\n",
        "# Optionally test on hold-out set\n",
        "for name, model in best_models.items():\n",
        "    y_pred = model.predict(X_test)\n",
        "    acc = accuracy_score(y_test, y_pred)\n",
        "    print(f\"Test accuracy for {name}: {acc:.4f}\")"
      ],
      "metadata": {
        "id": "1zdp56STfBfb",
        "colab": {
          "base_uri": "https://localhost:8080/"
        },
        "outputId": "2e9901af-3971-48c1-bf4c-ed2ad5a76f65"
      },
      "execution_count": 12,
      "outputs": [
        {
          "output_type": "stream",
          "name": "stdout",
          "text": [
            "Test accuracy for SVC: 0.7865\n",
            "Test accuracy for RandomForest: 0.7697\n",
            "Test accuracy for XGBoost: 0.8034\n",
            "Test accuracy for MLP: 0.7753\n",
            "Test accuracy for KNN: 0.7978\n",
            "Test accuracy for DecisionTree: 0.8202\n",
            "Test accuracy for ExtraTrees: 0.8034\n",
            "Test accuracy for GradientBoosting: 0.8202\n",
            "Test accuracy for Voting: 0.8146\n"
          ]
        }
      ]
    },
    {
      "cell_type": "markdown",
      "source": [
        "## ✅ Feature Evaluation Summary\n",
        "\n",
        "The features `FareBin` and `AgeBin` are derived from `Fare` and `Age`, so they are naturally correlated.  \n",
        "To avoid potential redundancy or bias in the model, I tested **three configurations**:\n",
        "\n",
        "- 🔹 **Version 1 – Baseline**: Without `Fare`, `Age`, `FareBin`, and `AgeBin`\n",
        "- 🔹 **Version 2 – Binned Only**: All features included **except** `Fare` and `Age` (to avoid correlation)\n",
        "- 🔹 **Version 3 – All Features**: Including both original and binned versions of `Fare` and `Age`\n",
        "\n",
        "---\n",
        "\n",
        "### 📊 Accuracy Comparison\n",
        "\n",
        "#### 🔹 Version 1 – No Fare / Age / Binned\n",
        "\n",
        "| Model              | Test Accuracy |\n",
        "|-------------------|----------------|\n",
        "| SVC               | 0.7921         |\n",
        "| RandomForest      | 0.7978         |\n",
        "| XGBoost           | 0.7921         |\n",
        "| MLP               | 0.8034         |\n",
        "| KNN               | 0.7640         |\n",
        "| DecisionTree      | 0.7865         |\n",
        "| ExtraTrees        | 0.7978         |\n",
        "| GradientBoosting  | 0.7978         |\n",
        "| **VotingClassifier** | **0.8202**     |\n",
        "\n",
        "#### 🔹 Version 2 – Binned Features Only (No `Fare` and `Age`)\n",
        "\n",
        "- ✅ Best Accuracy: **XGBoost – 0.7921**\n",
        "\n",
        "#### 🔹 Version 3 – All Features (Original + Binned)\n",
        "\n",
        "| Model              | Test Accuracy |\n",
        "|-------------------|----------------|\n",
        "| SVC               | 0.7865         |\n",
        "| RandomForest      | 0.7697         |\n",
        "| XGBoost           | 0.8034         |\n",
        "| MLP               | 0.7753         |\n",
        "| KNN               | 0.7978         |\n",
        "| DecisionTree      | **0.8202**     |\n",
        "| ExtraTrees        | 0.8034         |\n",
        "| GradientBoosting  | **0.8202**     |\n",
        "| VotingClassifier  | 0.8146         |\n",
        "\n",
        "---\n",
        "\n",
        "### ✅ Final Decision\n",
        "\n",
        "- Best result **without** Fare/Age/Binned: `VotingClassifier – 0.8202`\n",
        "- Best result **with binned only (no Fare/Age)**: `XGBoost – 0.7921`\n",
        "- Best result **with all features**: `GradientBoosting / DecisionTree – 0.8202`\n",
        "\n",
        "Since the highest accuracy is achieved **both with and without** the binned features, I will continue using **all features** for better model flexibility and feature richness.\n",
        "\n",
        "---\n",
        "\n",
        "## 🧪 Next Step: Apply PCA  \n",
        "Now that the best baseline has been established using **all features**, I will apply **Principal Component Analysis (PCA)** to explore potential improvements in performance through dimensionality reduction.\n"
      ],
      "metadata": {
        "id": "9-TZTscktqZC"
      }
    },
    {
      "cell_type": "markdown",
      "source": [
        "## Resume of all the models with a graph"
      ],
      "metadata": {
        "id": "Bh3vk4Wy6qrQ"
      }
    },
    {
      "cell_type": "code",
      "source": [
        "import pandas as pd\n",
        "import matplotlib.pyplot as plt\n",
        "\n",
        "# Accuracy results\n",
        "model_results = {\n",
        "    'Baseline': {\n",
        "        'SVC': 0.7921,\n",
        "        'RandomForest': 0.7978,\n",
        "        'XGBoost': 0.7921,\n",
        "        'MLP': 0.8034,\n",
        "        'KNN': 0.7640,\n",
        "        'DecisionTree': 0.7865,\n",
        "        'ExtraTrees': 0.7978,\n",
        "        'GradientBoosting': 0.7978,\n",
        "        'Voting': 0.8202\n",
        "    },\n",
        "    'Binned Only': {\n",
        "        'XGBoost': 0.7921    #only the best has been kept\n",
        "    },\n",
        "    'All Features': {\n",
        "        'SVC': 0.7865,\n",
        "        'RandomForest': 0.7697,\n",
        "        'XGBoost': 0.8034,\n",
        "        'MLP': 0.7753,\n",
        "        'KNN': 0.7978,\n",
        "        'DecisionTree': 0.8202,\n",
        "        'ExtraTrees': 0.8034,\n",
        "        'GradientBoosting': 0.8202,\n",
        "        'Voting': 0.8146\n",
        "    },\n",
        "    'PCA': {\n",
        "        'SVC': 0.7921,\n",
        "        'RandomForest': 0.7697,\n",
        "        'XGBoost': 0.7753,\n",
        "        'MLP': 0.8146,\n",
        "        'KNN': 0.7921,\n",
        "        'DecisionTree': 0.7978,\n",
        "        'ExtraTrees': 0.7697,\n",
        "        'GradientBoosting': 0.7640,\n",
        "        'Voting': 0.7978\n",
        "    }\n",
        "}\n",
        "\n",
        "# Convert to DataFrame\n",
        "df_results = pd.DataFrame(model_results)\n",
        "\n",
        "# Optional: sort rows by highest score in \"All Features\"\n",
        "df_results = df_results.sort_values(by='All Features', ascending=False)\n",
        "\n",
        "# Display table\n",
        "display(df_results)\n",
        "\n",
        "# Plot\n",
        "df_results.plot(kind='bar', figsize=(14, 7))\n",
        "plt.title('📊 Model Accuracy Comparison Across Feature Sets')\n",
        "plt.ylabel('Accuracy')\n",
        "plt.xticks(rotation=45)\n",
        "plt.grid(True)\n",
        "plt.tight_layout()\n",
        "plt.show()\n"
      ],
      "metadata": {
        "colab": {
          "base_uri": "https://localhost:8080/",
          "height": 884
        },
        "id": "BsQagP4-6qbO",
        "outputId": "750c6fcf-0891-4dbe-f4bc-c7c502a12224"
      },
      "execution_count": 13,
      "outputs": [
        {
          "output_type": "display_data",
          "data": {
            "text/plain": [
              "                  Baseline  Binned Only  All Features     PCA\n",
              "GradientBoosting    0.7978          NaN        0.8202  0.7640\n",
              "DecisionTree        0.7865          NaN        0.8202  0.7978\n",
              "Voting              0.8202          NaN        0.8146  0.7978\n",
              "ExtraTrees          0.7978          NaN        0.8034  0.7697\n",
              "XGBoost             0.7921       0.7921        0.8034  0.7753\n",
              "KNN                 0.7640          NaN        0.7978  0.7921\n",
              "SVC                 0.7921          NaN        0.7865  0.7921\n",
              "MLP                 0.8034          NaN        0.7753  0.8146\n",
              "RandomForest        0.7978          NaN        0.7697  0.7697"
            ],
            "text/html": [
              "\n",
              "  <div id=\"df-cba46ba2-6610-46b3-8003-5af096246b78\" class=\"colab-df-container\">\n",
              "    <div>\n",
              "<style scoped>\n",
              "    .dataframe tbody tr th:only-of-type {\n",
              "        vertical-align: middle;\n",
              "    }\n",
              "\n",
              "    .dataframe tbody tr th {\n",
              "        vertical-align: top;\n",
              "    }\n",
              "\n",
              "    .dataframe thead th {\n",
              "        text-align: right;\n",
              "    }\n",
              "</style>\n",
              "<table border=\"1\" class=\"dataframe\">\n",
              "  <thead>\n",
              "    <tr style=\"text-align: right;\">\n",
              "      <th></th>\n",
              "      <th>Baseline</th>\n",
              "      <th>Binned Only</th>\n",
              "      <th>All Features</th>\n",
              "      <th>PCA</th>\n",
              "    </tr>\n",
              "  </thead>\n",
              "  <tbody>\n",
              "    <tr>\n",
              "      <th>GradientBoosting</th>\n",
              "      <td>0.7978</td>\n",
              "      <td>NaN</td>\n",
              "      <td>0.8202</td>\n",
              "      <td>0.7640</td>\n",
              "    </tr>\n",
              "    <tr>\n",
              "      <th>DecisionTree</th>\n",
              "      <td>0.7865</td>\n",
              "      <td>NaN</td>\n",
              "      <td>0.8202</td>\n",
              "      <td>0.7978</td>\n",
              "    </tr>\n",
              "    <tr>\n",
              "      <th>Voting</th>\n",
              "      <td>0.8202</td>\n",
              "      <td>NaN</td>\n",
              "      <td>0.8146</td>\n",
              "      <td>0.7978</td>\n",
              "    </tr>\n",
              "    <tr>\n",
              "      <th>ExtraTrees</th>\n",
              "      <td>0.7978</td>\n",
              "      <td>NaN</td>\n",
              "      <td>0.8034</td>\n",
              "      <td>0.7697</td>\n",
              "    </tr>\n",
              "    <tr>\n",
              "      <th>XGBoost</th>\n",
              "      <td>0.7921</td>\n",
              "      <td>0.7921</td>\n",
              "      <td>0.8034</td>\n",
              "      <td>0.7753</td>\n",
              "    </tr>\n",
              "    <tr>\n",
              "      <th>KNN</th>\n",
              "      <td>0.7640</td>\n",
              "      <td>NaN</td>\n",
              "      <td>0.7978</td>\n",
              "      <td>0.7921</td>\n",
              "    </tr>\n",
              "    <tr>\n",
              "      <th>SVC</th>\n",
              "      <td>0.7921</td>\n",
              "      <td>NaN</td>\n",
              "      <td>0.7865</td>\n",
              "      <td>0.7921</td>\n",
              "    </tr>\n",
              "    <tr>\n",
              "      <th>MLP</th>\n",
              "      <td>0.8034</td>\n",
              "      <td>NaN</td>\n",
              "      <td>0.7753</td>\n",
              "      <td>0.8146</td>\n",
              "    </tr>\n",
              "    <tr>\n",
              "      <th>RandomForest</th>\n",
              "      <td>0.7978</td>\n",
              "      <td>NaN</td>\n",
              "      <td>0.7697</td>\n",
              "      <td>0.7697</td>\n",
              "    </tr>\n",
              "  </tbody>\n",
              "</table>\n",
              "</div>\n",
              "    <div class=\"colab-df-buttons\">\n",
              "\n",
              "  <div class=\"colab-df-container\">\n",
              "    <button class=\"colab-df-convert\" onclick=\"convertToInteractive('df-cba46ba2-6610-46b3-8003-5af096246b78')\"\n",
              "            title=\"Convert this dataframe to an interactive table.\"\n",
              "            style=\"display:none;\">\n",
              "\n",
              "  <svg xmlns=\"http://www.w3.org/2000/svg\" height=\"24px\" viewBox=\"0 -960 960 960\">\n",
              "    <path d=\"M120-120v-720h720v720H120Zm60-500h600v-160H180v160Zm220 220h160v-160H400v160Zm0 220h160v-160H400v160ZM180-400h160v-160H180v160Zm440 0h160v-160H620v160ZM180-180h160v-160H180v160Zm440 0h160v-160H620v160Z\"/>\n",
              "  </svg>\n",
              "    </button>\n",
              "\n",
              "  <style>\n",
              "    .colab-df-container {\n",
              "      display:flex;\n",
              "      gap: 12px;\n",
              "    }\n",
              "\n",
              "    .colab-df-convert {\n",
              "      background-color: #E8F0FE;\n",
              "      border: none;\n",
              "      border-radius: 50%;\n",
              "      cursor: pointer;\n",
              "      display: none;\n",
              "      fill: #1967D2;\n",
              "      height: 32px;\n",
              "      padding: 0 0 0 0;\n",
              "      width: 32px;\n",
              "    }\n",
              "\n",
              "    .colab-df-convert:hover {\n",
              "      background-color: #E2EBFA;\n",
              "      box-shadow: 0px 1px 2px rgba(60, 64, 67, 0.3), 0px 1px 3px 1px rgba(60, 64, 67, 0.15);\n",
              "      fill: #174EA6;\n",
              "    }\n",
              "\n",
              "    .colab-df-buttons div {\n",
              "      margin-bottom: 4px;\n",
              "    }\n",
              "\n",
              "    [theme=dark] .colab-df-convert {\n",
              "      background-color: #3B4455;\n",
              "      fill: #D2E3FC;\n",
              "    }\n",
              "\n",
              "    [theme=dark] .colab-df-convert:hover {\n",
              "      background-color: #434B5C;\n",
              "      box-shadow: 0px 1px 3px 1px rgba(0, 0, 0, 0.15);\n",
              "      filter: drop-shadow(0px 1px 2px rgba(0, 0, 0, 0.3));\n",
              "      fill: #FFFFFF;\n",
              "    }\n",
              "  </style>\n",
              "\n",
              "    <script>\n",
              "      const buttonEl =\n",
              "        document.querySelector('#df-cba46ba2-6610-46b3-8003-5af096246b78 button.colab-df-convert');\n",
              "      buttonEl.style.display =\n",
              "        google.colab.kernel.accessAllowed ? 'block' : 'none';\n",
              "\n",
              "      async function convertToInteractive(key) {\n",
              "        const element = document.querySelector('#df-cba46ba2-6610-46b3-8003-5af096246b78');\n",
              "        const dataTable =\n",
              "          await google.colab.kernel.invokeFunction('convertToInteractive',\n",
              "                                                    [key], {});\n",
              "        if (!dataTable) return;\n",
              "\n",
              "        const docLinkHtml = 'Like what you see? Visit the ' +\n",
              "          '<a target=\"_blank\" href=https://colab.research.google.com/notebooks/data_table.ipynb>data table notebook</a>'\n",
              "          + ' to learn more about interactive tables.';\n",
              "        element.innerHTML = '';\n",
              "        dataTable['output_type'] = 'display_data';\n",
              "        await google.colab.output.renderOutput(dataTable, element);\n",
              "        const docLink = document.createElement('div');\n",
              "        docLink.innerHTML = docLinkHtml;\n",
              "        element.appendChild(docLink);\n",
              "      }\n",
              "    </script>\n",
              "  </div>\n",
              "\n",
              "\n",
              "<div id=\"df-c5400882-c987-4d07-add0-6b07992be9c2\">\n",
              "  <button class=\"colab-df-quickchart\" onclick=\"quickchart('df-c5400882-c987-4d07-add0-6b07992be9c2')\"\n",
              "            title=\"Suggest charts\"\n",
              "            style=\"display:none;\">\n",
              "\n",
              "<svg xmlns=\"http://www.w3.org/2000/svg\" height=\"24px\"viewBox=\"0 0 24 24\"\n",
              "     width=\"24px\">\n",
              "    <g>\n",
              "        <path d=\"M19 3H5c-1.1 0-2 .9-2 2v14c0 1.1.9 2 2 2h14c1.1 0 2-.9 2-2V5c0-1.1-.9-2-2-2zM9 17H7v-7h2v7zm4 0h-2V7h2v10zm4 0h-2v-4h2v4z\"/>\n",
              "    </g>\n",
              "</svg>\n",
              "  </button>\n",
              "\n",
              "<style>\n",
              "  .colab-df-quickchart {\n",
              "      --bg-color: #E8F0FE;\n",
              "      --fill-color: #1967D2;\n",
              "      --hover-bg-color: #E2EBFA;\n",
              "      --hover-fill-color: #174EA6;\n",
              "      --disabled-fill-color: #AAA;\n",
              "      --disabled-bg-color: #DDD;\n",
              "  }\n",
              "\n",
              "  [theme=dark] .colab-df-quickchart {\n",
              "      --bg-color: #3B4455;\n",
              "      --fill-color: #D2E3FC;\n",
              "      --hover-bg-color: #434B5C;\n",
              "      --hover-fill-color: #FFFFFF;\n",
              "      --disabled-bg-color: #3B4455;\n",
              "      --disabled-fill-color: #666;\n",
              "  }\n",
              "\n",
              "  .colab-df-quickchart {\n",
              "    background-color: var(--bg-color);\n",
              "    border: none;\n",
              "    border-radius: 50%;\n",
              "    cursor: pointer;\n",
              "    display: none;\n",
              "    fill: var(--fill-color);\n",
              "    height: 32px;\n",
              "    padding: 0;\n",
              "    width: 32px;\n",
              "  }\n",
              "\n",
              "  .colab-df-quickchart:hover {\n",
              "    background-color: var(--hover-bg-color);\n",
              "    box-shadow: 0 1px 2px rgba(60, 64, 67, 0.3), 0 1px 3px 1px rgba(60, 64, 67, 0.15);\n",
              "    fill: var(--button-hover-fill-color);\n",
              "  }\n",
              "\n",
              "  .colab-df-quickchart-complete:disabled,\n",
              "  .colab-df-quickchart-complete:disabled:hover {\n",
              "    background-color: var(--disabled-bg-color);\n",
              "    fill: var(--disabled-fill-color);\n",
              "    box-shadow: none;\n",
              "  }\n",
              "\n",
              "  .colab-df-spinner {\n",
              "    border: 2px solid var(--fill-color);\n",
              "    border-color: transparent;\n",
              "    border-bottom-color: var(--fill-color);\n",
              "    animation:\n",
              "      spin 1s steps(1) infinite;\n",
              "  }\n",
              "\n",
              "  @keyframes spin {\n",
              "    0% {\n",
              "      border-color: transparent;\n",
              "      border-bottom-color: var(--fill-color);\n",
              "      border-left-color: var(--fill-color);\n",
              "    }\n",
              "    20% {\n",
              "      border-color: transparent;\n",
              "      border-left-color: var(--fill-color);\n",
              "      border-top-color: var(--fill-color);\n",
              "    }\n",
              "    30% {\n",
              "      border-color: transparent;\n",
              "      border-left-color: var(--fill-color);\n",
              "      border-top-color: var(--fill-color);\n",
              "      border-right-color: var(--fill-color);\n",
              "    }\n",
              "    40% {\n",
              "      border-color: transparent;\n",
              "      border-right-color: var(--fill-color);\n",
              "      border-top-color: var(--fill-color);\n",
              "    }\n",
              "    60% {\n",
              "      border-color: transparent;\n",
              "      border-right-color: var(--fill-color);\n",
              "    }\n",
              "    80% {\n",
              "      border-color: transparent;\n",
              "      border-right-color: var(--fill-color);\n",
              "      border-bottom-color: var(--fill-color);\n",
              "    }\n",
              "    90% {\n",
              "      border-color: transparent;\n",
              "      border-bottom-color: var(--fill-color);\n",
              "    }\n",
              "  }\n",
              "</style>\n",
              "\n",
              "  <script>\n",
              "    async function quickchart(key) {\n",
              "      const quickchartButtonEl =\n",
              "        document.querySelector('#' + key + ' button');\n",
              "      quickchartButtonEl.disabled = true;  // To prevent multiple clicks.\n",
              "      quickchartButtonEl.classList.add('colab-df-spinner');\n",
              "      try {\n",
              "        const charts = await google.colab.kernel.invokeFunction(\n",
              "            'suggestCharts', [key], {});\n",
              "      } catch (error) {\n",
              "        console.error('Error during call to suggestCharts:', error);\n",
              "      }\n",
              "      quickchartButtonEl.classList.remove('colab-df-spinner');\n",
              "      quickchartButtonEl.classList.add('colab-df-quickchart-complete');\n",
              "    }\n",
              "    (() => {\n",
              "      let quickchartButtonEl =\n",
              "        document.querySelector('#df-c5400882-c987-4d07-add0-6b07992be9c2 button');\n",
              "      quickchartButtonEl.style.display =\n",
              "        google.colab.kernel.accessAllowed ? 'block' : 'none';\n",
              "    })();\n",
              "  </script>\n",
              "</div>\n",
              "\n",
              "  <div id=\"id_81be2d7c-5d95-4959-bb12-1a552c3f8638\">\n",
              "    <style>\n",
              "      .colab-df-generate {\n",
              "        background-color: #E8F0FE;\n",
              "        border: none;\n",
              "        border-radius: 50%;\n",
              "        cursor: pointer;\n",
              "        display: none;\n",
              "        fill: #1967D2;\n",
              "        height: 32px;\n",
              "        padding: 0 0 0 0;\n",
              "        width: 32px;\n",
              "      }\n",
              "\n",
              "      .colab-df-generate:hover {\n",
              "        background-color: #E2EBFA;\n",
              "        box-shadow: 0px 1px 2px rgba(60, 64, 67, 0.3), 0px 1px 3px 1px rgba(60, 64, 67, 0.15);\n",
              "        fill: #174EA6;\n",
              "      }\n",
              "\n",
              "      [theme=dark] .colab-df-generate {\n",
              "        background-color: #3B4455;\n",
              "        fill: #D2E3FC;\n",
              "      }\n",
              "\n",
              "      [theme=dark] .colab-df-generate:hover {\n",
              "        background-color: #434B5C;\n",
              "        box-shadow: 0px 1px 3px 1px rgba(0, 0, 0, 0.15);\n",
              "        filter: drop-shadow(0px 1px 2px rgba(0, 0, 0, 0.3));\n",
              "        fill: #FFFFFF;\n",
              "      }\n",
              "    </style>\n",
              "    <button class=\"colab-df-generate\" onclick=\"generateWithVariable('df_results')\"\n",
              "            title=\"Generate code using this dataframe.\"\n",
              "            style=\"display:none;\">\n",
              "\n",
              "  <svg xmlns=\"http://www.w3.org/2000/svg\" height=\"24px\"viewBox=\"0 0 24 24\"\n",
              "       width=\"24px\">\n",
              "    <path d=\"M7,19H8.4L18.45,9,17,7.55,7,17.6ZM5,21V16.75L18.45,3.32a2,2,0,0,1,2.83,0l1.4,1.43a1.91,1.91,0,0,1,.58,1.4,1.91,1.91,0,0,1-.58,1.4L9.25,21ZM18.45,9,17,7.55Zm-12,3A5.31,5.31,0,0,0,4.9,8.1,5.31,5.31,0,0,0,1,6.5,5.31,5.31,0,0,0,4.9,4.9,5.31,5.31,0,0,0,6.5,1,5.31,5.31,0,0,0,8.1,4.9,5.31,5.31,0,0,0,12,6.5,5.46,5.46,0,0,0,6.5,12Z\"/>\n",
              "  </svg>\n",
              "    </button>\n",
              "    <script>\n",
              "      (() => {\n",
              "      const buttonEl =\n",
              "        document.querySelector('#id_81be2d7c-5d95-4959-bb12-1a552c3f8638 button.colab-df-generate');\n",
              "      buttonEl.style.display =\n",
              "        google.colab.kernel.accessAllowed ? 'block' : 'none';\n",
              "\n",
              "      buttonEl.onclick = () => {\n",
              "        google.colab.notebook.generateWithVariable('df_results');\n",
              "      }\n",
              "      })();\n",
              "    </script>\n",
              "  </div>\n",
              "\n",
              "    </div>\n",
              "  </div>\n"
            ],
            "application/vnd.google.colaboratory.intrinsic+json": {
              "type": "dataframe",
              "variable_name": "df_results",
              "summary": "{\n  \"name\": \"df_results\",\n  \"rows\": 9,\n  \"fields\": [\n    {\n      \"column\": \"Baseline\",\n      \"properties\": {\n        \"dtype\": \"number\",\n        \"std\": 0.014907967668330921,\n        \"min\": 0.764,\n        \"max\": 0.8202,\n        \"num_unique_values\": 6,\n        \"samples\": [\n          0.7978,\n          0.7865,\n          0.8034\n        ],\n        \"semantic_type\": \"\",\n        \"description\": \"\"\n      }\n    },\n    {\n      \"column\": \"Binned Only\",\n      \"properties\": {\n        \"dtype\": \"number\",\n        \"std\": null,\n        \"min\": 0.7921,\n        \"max\": 0.7921,\n        \"num_unique_values\": 1,\n        \"samples\": [\n          0.7921\n        ],\n        \"semantic_type\": \"\",\n        \"description\": \"\"\n      }\n    },\n    {\n      \"column\": \"All Features\",\n      \"properties\": {\n        \"dtype\": \"number\",\n        \"std\": 0.018570234546475477,\n        \"min\": 0.7697,\n        \"max\": 0.8202,\n        \"num_unique_values\": 7,\n        \"samples\": [\n          0.8202\n        ],\n        \"semantic_type\": \"\",\n        \"description\": \"\"\n      }\n    },\n    {\n      \"column\": \"PCA\",\n      \"properties\": {\n        \"dtype\": \"number\",\n        \"std\": 0.01695818386502515,\n        \"min\": 0.764,\n        \"max\": 0.8146,\n        \"num_unique_values\": 6,\n        \"samples\": [\n          0.764\n        ],\n        \"semantic_type\": \"\",\n        \"description\": \"\"\n      }\n    }\n  ]\n}"
            }
          },
          "metadata": {}
        },
        {
          "output_type": "display_data",
          "data": {
            "text/plain": [
              "<Figure size 1400x700 with 1 Axes>"
            ],
            "image/png": "[encoded data removed]"
          },
          "metadata": {}
        }
      ]
    },
    {
      "cell_type": "markdown",
      "source": [
        "##Visualize feature importances"
      ],
      "metadata": {
        "id": "JLmniYLtBBwA"
      }
    },
    {
      "cell_type": "code",
      "source": [
        "# Extract the trained Gradient Boosting model\n",
        "gbc_model = best_models['GradientBoosting'].named_steps['model']\n",
        "\n",
        "# Get feature names after preprocessing\n",
        "feature_names = best_models['GradientBoosting'].named_steps['preprocessing'].get_feature_names_out()\n",
        "\n",
        "# Get feature importances\n",
        "importances = gbc_model.feature_importances_\n",
        "feature_importance_df = pd.DataFrame({\n",
        "    'Feature': feature_names,\n",
        "    'Importance': importances\n",
        "}).sort_values(by='Importance', ascending=False)\n",
        "\n",
        "# Plot top 10 important features\n",
        "plt.figure(figsize=(10, 6))\n",
        "plt.barh(feature_importance_df['Feature'][:10][::-1], feature_importance_df['Importance'][:10][::-1])\n",
        "plt.xlabel('Importance')\n",
        "plt.title('Top 10 Feature Importances – Gradient Boosting')\n",
        "plt.grid(True)\n",
        "plt.tight_layout()\n",
        "plt.show()"
      ],
      "metadata": {
        "colab": {
          "base_uri": "https://localhost:8080/",
          "height": 607
        },
        "id": "HZNuhWjaBNOF",
        "outputId": "07d06812-a832-41d1-b086-e5543ddb28c9"
      },
      "execution_count": 14,
      "outputs": [
        {
          "output_type": "display_data",
          "data": {
            "text/plain": [
              "<Figure size 1000x600 with 1 Axes>"
            ],
            "image/png": "[encoded data removed]"
          },
          "metadata": {}
        }
      ]
    },
    {
      "cell_type": "markdown",
      "source": [
        "\n",
        "###Using the Gradient Boosting Classifier, we observe that the title \"Mr\" is by far the most influential feature, contributing to over 40% of the model's predictive power. Fare and FamilySize follow, each accounting for just over 10%, while Pclass_3 also plays a role, though to a slightly lesser extent. This highlights the strong impact of passenger title and socio-economic indicators on survival predictions."
      ],
      "metadata": {
        "id": "Lx2-KLNEDAHa"
      }
    },
    {
      "cell_type": "markdown",
      "source": [
        "# Result data for Kaggle"
      ],
      "metadata": {
        "id": "TjmbLGBDNNRx"
      }
    },
    {
      "cell_type": "markdown",
      "source": [
        "###Using the trained Gradient Boosting Classifier, we applied our pipeline to a new dataset without survival labels. The model outputs a prediction (0 = did not survive, 1 = survived) based on the learned patterns from the original Titanic dataset. This process ensures consistency in feature processing and model inference.\n",
        "\n"
      ],
      "metadata": {
        "id": "uvLpYJrzEgmH"
      }
    },
    {
      "cell_type": "code",
      "source": [
        "# Load the new dataset (same structure as train.csv but without 'Survived')\n",
        "df = pd.read_csv('/content/test.csv')  # Replace with your actual file name"
      ],
      "metadata": {
        "id": "tMi07HseGbCv"
      },
      "execution_count": 15,
      "outputs": []
    },
    {
      "cell_type": "code",
      "source": [
        "\n",
        "# Drop rows where 'Embarked' is missing\n",
        "df = df.dropna(subset=['Embarked'])\n",
        "fare_median = df['Fare'].median()\n",
        "\n",
        "# Fill missing Fare values\n",
        "df['Fare'].fillna(fare_median, inplace=True)\n",
        "\n",
        "df.isna().sum()"
      ],
      "metadata": {
        "colab": {
          "base_uri": "https://localhost:8080/",
          "height": 429
        },
        "id": "C_-CGkQ9NFhs",
        "outputId": "b9d2808b-1c3d-4bb0-e214-20ec8b06c069"
      },
      "execution_count": 16,
      "outputs": [
        {
          "output_type": "execute_result",
          "data": {
            "text/plain": [
              "PassengerId      0\n",
              "Pclass           0\n",
              "Name             0\n",
              "Sex              0\n",
              "Age             86\n",
              "SibSp            0\n",
              "Parch            0\n",
              "Ticket           0\n",
              "Fare             0\n",
              "Cabin          327\n",
              "Embarked         0\n",
              "dtype: int64"
            ],
            "text/html": [
              "<div>\n",
              "<style scoped>\n",
              "    .dataframe tbody tr th:only-of-type {\n",
              "        vertical-align: middle;\n",
              "    }\n",
              "\n",
              "    .dataframe tbody tr th {\n",
              "        vertical-align: top;\n",
              "    }\n",
              "\n",
              "    .dataframe thead th {\n",
              "        text-align: right;\n",
              "    }\n",
              "</style>\n",
              "<table border=\"1\" class=\"dataframe\">\n",
              "  <thead>\n",
              "    <tr style=\"text-align: right;\">\n",
              "      <th></th>\n",
              "      <th>0</th>\n",
              "    </tr>\n",
              "  </thead>\n",
              "  <tbody>\n",
              "    <tr>\n",
              "      <th>PassengerId</th>\n",
              "      <td>0</td>\n",
              "    </tr>\n",
              "    <tr>\n",
              "      <th>Pclass</th>\n",
              "      <td>0</td>\n",
              "    </tr>\n",
              "    <tr>\n",
              "      <th>Name</th>\n",
              "      <td>0</td>\n",
              "    </tr>\n",
              "    <tr>\n",
              "      <th>Sex</th>\n",
              "      <td>0</td>\n",
              "    </tr>\n",
              "    <tr>\n",
              "      <th>Age</th>\n",
              "      <td>86</td>\n",
              "    </tr>\n",
              "    <tr>\n",
              "      <th>SibSp</th>\n",
              "      <td>0</td>\n",
              "    </tr>\n",
              "    <tr>\n",
              "      <th>Parch</th>\n",
              "      <td>0</td>\n",
              "    </tr>\n",
              "    <tr>\n",
              "      <th>Ticket</th>\n",
              "      <td>0</td>\n",
              "    </tr>\n",
              "    <tr>\n",
              "      <th>Fare</th>\n",
              "      <td>0</td>\n",
              "    </tr>\n",
              "    <tr>\n",
              "      <th>Cabin</th>\n",
              "      <td>327</td>\n",
              "    </tr>\n",
              "    <tr>\n",
              "      <th>Embarked</th>\n",
              "      <td>0</td>\n",
              "    </tr>\n",
              "  </tbody>\n",
              "</table>\n",
              "</div><br><label><b>dtype:</b> int64</label>"
            ]
          },
          "metadata": {},
          "execution_count": 16
        }
      ]
    },
    {
      "cell_type": "markdown",
      "source": [
        "##Model to predict the missing data for age (+20% of the rows) depending of the other variables"
      ],
      "metadata": {
        "id": "gug2eIJsNFhw"
      }
    },
    {
      "cell_type": "code",
      "source": [
        "from sklearn.ensemble import RandomForestRegressor\n",
        "import pandas as pd\n",
        "\n",
        "# Features to help predict Age\n",
        "features_for_age = ['Pclass', 'Sex', 'SibSp', 'Parch', 'Fare', 'Embarked']\n",
        "\n",
        "# Drop rows with missing values in any of the relevant features (EXCEPT Age)\n",
        "df_age_input = df[features_for_age + ['Age']].copy()\n",
        "df_age_input = df_age_input.dropna(subset=features_for_age)\n",
        "\n",
        "# One-hot encode\n",
        "df_temp = pd.get_dummies(df_age_input, drop_first=True)\n",
        "\n",
        "# Split\n",
        "df_age_known = df_temp[df_temp['Age'].notnull()]\n",
        "df_age_missing = df_temp[df_temp['Age'].isnull()]\n",
        "\n",
        "# Check before proceeding\n",
        "if df_age_missing.empty:\n",
        "    print(\"❗No rows with missing Age available to predict.\")\n",
        "else:\n",
        "    # Train\n",
        "    X_age = df_age_known.drop('Age', axis=1)\n",
        "    y_age = df_age_known['Age']\n",
        "    rfr = RandomForestRegressor(n_estimators=100, random_state=42)\n",
        "    rfr.fit(X_age, y_age)\n",
        "\n",
        "    # Predict\n",
        "    X_missing_age = df_age_missing.drop('Age', axis=1)\n",
        "    predicted_ages = rfr.predict(X_missing_age)\n",
        "\n",
        "    # Align indices to safely assign\n",
        "    df.loc[df_age_missing.index, 'Age'] = predicted_ages\n"
      ],
      "metadata": {
        "collapsed": true,
        "id": "92HrQk32NFhw"
      },
      "execution_count": 17,
      "outputs": []
    },
    {
      "cell_type": "markdown",
      "source": [
        "##New feature \"Title\" with the \"Name\"\n",
        "\n",
        "\n"
      ],
      "metadata": {
        "id": "C4Qd1FoNNFhw"
      }
    },
    {
      "cell_type": "code",
      "source": [
        "# Extract title\n",
        "df['Title'] = df['Name'].str.extract(' ([A-Za-z]+)\\.', expand=False)\n",
        "\n",
        "# Simplify titles\n",
        "df['Title'] = df['Title'].replace(['Lady', 'Countess', 'Capt', 'Col',\n",
        "                                   'Don', 'Dr', 'Major', 'Rev', 'Sir',\n",
        "                                   'Jonkheer', 'Dona'], 'Rare')\n",
        "\n",
        "df['Title'] = df['Title'].replace({'Mlle': 'Miss', 'Ms': 'Miss', 'Mme': 'Mrs'})\n",
        "\n",
        "print(df['Title'].value_counts())\n"
      ],
      "metadata": {
        "colab": {
          "base_uri": "https://localhost:8080/"
        },
        "outputId": "594ea274-381b-4671-ea58-dbaca70e1c9e",
        "id": "98x2ExChNFhw"
      },
      "execution_count": 18,
      "outputs": [
        {
          "output_type": "stream",
          "name": "stdout",
          "text": [
            "Title\n",
            "Mr        240\n",
            "Miss       79\n",
            "Mrs        72\n",
            "Master     21\n",
            "Rare        6\n",
            "Name: count, dtype: int64\n"
          ]
        }
      ]
    },
    {
      "cell_type": "markdown",
      "source": [
        "##New feature \"FamilySize\" and \"IsAlone\"\n"
      ],
      "metadata": {
        "id": "m28sIL2-NFhx"
      }
    },
    {
      "cell_type": "code",
      "source": [
        "# Create FamilySize\n",
        "df['FamilySize'] = df['SibSp'] + df['Parch'] + 1\n",
        "\n",
        "# Create IsAlone\n",
        "df['IsAlone'] = 0\n",
        "df.loc[df['FamilySize'] == 1, 'IsAlone'] = 1\n",
        "\n",
        "print(df[['SibSp', 'Parch', 'FamilySize', 'IsAlone']].head())\n"
      ],
      "metadata": {
        "colab": {
          "base_uri": "https://localhost:8080/"
        },
        "id": "CIquHSM2NFhx",
        "outputId": "1bcee830-8274-4df3-d518-df1b34e71cee"
      },
      "execution_count": 19,
      "outputs": [
        {
          "output_type": "stream",
          "name": "stdout",
          "text": [
            "   SibSp  Parch  FamilySize  IsAlone\n",
            "0      0      0           1        1\n",
            "1      1      0           2        0\n",
            "2      0      0           1        1\n",
            "3      0      0           1        1\n",
            "4      1      1           3        0\n"
          ]
        }
      ]
    },
    {
      "cell_type": "code",
      "source": [
        "# AgeBand: split into 5 roughly equal-sized bins\n",
        "df['AgeBand'] = pd.cut(df['Age'], 5)\n",
        "\n",
        "# Create AgeBin (numeric version for modeling)\n",
        "df['AgeBin'] = pd.cut(df['Age'], 5, labels=[0, 1, 2, 3, 4]).astype(int)\n",
        "\n",
        "# FareBand: split into 4 quantile-based bins\n",
        "df['FareBand'] = pd.qcut(df['Fare'], 4)\n",
        "\n",
        "# Create FareBin (numeric version for modeling)\n",
        "df['FareBin'] = pd.qcut(df['Fare'], 4, labels=[0, 1, 2, 3]).astype(int)\n",
        "\n",
        "# print(df[['Age', 'AgeBand', 'AgeBin', 'Fare', 'FareBand', 'FareBin']].head())\n"
      ],
      "metadata": {
        "id": "qxJ_WfoiNFhx"
      },
      "execution_count": 20,
      "outputs": []
    },
    {
      "cell_type": "markdown",
      "source": [
        "## Preprocessing pipeline"
      ],
      "metadata": {
        "id": "Kd4yo1VaNFhx"
      }
    },
    {
      "cell_type": "code",
      "source": [
        "# Define features and target\n",
        "X = df[['Pclass', 'Sex', 'SibSp', 'Parch', 'Embarked', 'Title', \"IsAlone\", \"FamilySize\", \"FareBin\", \"AgeBin\", \"Age\", \"Fare\"]] #\"Cabin\" has too many NA values to be used\n",
        "\n",
        "# Column groups\n",
        "numeric_features = ['SibSp', 'Parch', \"FamilySize\", \"Age\", \"Fare\"]\n",
        "categorical_features = ['Pclass', 'Sex', 'Embarked', 'Title', \"IsAlone\", \"FareBin\", \"AgeBin\" ]\n",
        "\n",
        "# Pipelines\n",
        "numeric_pipeline = Pipeline([\n",
        "    ('scaler', StandardScaler())\n",
        "])\n",
        "\n",
        "categorical_pipeline = Pipeline([\n",
        "    ('encoder', OneHotEncoder(handle_unknown='ignore'))\n",
        "])\n",
        "\n",
        "# Combine pipelines\n",
        "preprocessor = ColumnTransformer([\n",
        "    ('num', numeric_pipeline, numeric_features),\n",
        "    ('cat', categorical_pipeline, categorical_features)\n",
        "])\n",
        "\n",
        "# Apply transformations\n",
        "X_prepro = preprocessor.fit_transform(X)\n",
        "\n",
        "# Get column names\n",
        "num_cols = numeric_features\n",
        "cat_cols = preprocessor.named_transformers_['cat']['encoder'].get_feature_names_out(categorical_features)\n",
        "all_columns = list(num_cols) + list(cat_cols)\n",
        "\n",
        "# Wrap in DataFrame\n",
        "X_final = pd.DataFrame(X_prepro, columns=all_columns)\n",
        "\n",
        "# Optional: display the result\n",
        "print(X_final.head())\n"
      ],
      "metadata": {
        "colab": {
          "base_uri": "https://localhost:8080/"
        },
        "outputId": "820345df-45a4-41c0-d6ba-02a00bb13b84",
        "id": "cGTFLf_kNFhy"
      },
      "execution_count": 21,
      "outputs": [
        {
          "output_type": "stream",
          "name": "stdout",
          "text": [
            "      SibSp     Parch  FamilySize       Age      Fare  Pclass_1  Pclass_2  \\\n",
            "0 -0.499470 -0.400248   -0.553443  0.360388 -0.497413       0.0       0.0   \n",
            "1  0.616992 -0.400248    0.105643  1.317902 -0.512278       0.0       0.0   \n",
            "2 -0.499470 -0.400248   -0.553443  2.466919 -0.464100       0.0       1.0   \n",
            "3 -0.499470 -0.400248   -0.553443 -0.214120 -0.482475       0.0       0.0   \n",
            "4  0.616992  0.619896    0.764728 -0.597126 -0.417492       0.0       0.0   \n",
            "\n",
            "   Pclass_3  Sex_female  Sex_male  ...  IsAlone_1  FareBin_0  FareBin_1  \\\n",
            "0       1.0         0.0       1.0  ...        1.0        1.0        0.0   \n",
            "1       1.0         1.0       0.0  ...        0.0        1.0        0.0   \n",
            "2       0.0         0.0       1.0  ...        1.0        0.0        1.0   \n",
            "3       1.0         0.0       1.0  ...        1.0        0.0        1.0   \n",
            "4       1.0         1.0       0.0  ...        0.0        0.0        1.0   \n",
            "\n",
            "   FareBin_2  FareBin_3  AgeBin_0  AgeBin_1  AgeBin_2  AgeBin_3  AgeBin_4  \n",
            "0        0.0        0.0       0.0       0.0       1.0       0.0       0.0  \n",
            "1        0.0        0.0       0.0       0.0       0.0       1.0       0.0  \n",
            "2        0.0        0.0       0.0       0.0       0.0       0.0       1.0  \n",
            "3        0.0        0.0       0.0       1.0       0.0       0.0       0.0  \n",
            "4        0.0        0.0       0.0       1.0       0.0       0.0       0.0  \n",
            "\n",
            "[5 rows x 29 columns]\n"
          ]
        }
      ]
    },
    {
      "cell_type": "code",
      "source": [
        "\n",
        "final_model = best_models['GradientBoosting']  # Because it was the best model\n",
        "\n",
        "# Make predictions directly\n",
        "predictions = final_model.predict(df)\n",
        "\n",
        "# Export submission file\n",
        "submission = pd.DataFrame({\n",
        "    'PassengerId': df['PassengerId'],\n",
        "    'Survived': predictions\n",
        "})\n",
        "submission.to_csv('submission.csv', index=False)"
      ],
      "metadata": {
        "id": "V9ElYtm-D_TJ"
      },
      "execution_count": 24,
      "outputs": []
    },
    {
      "cell_type": "code",
      "source": [],
      "metadata": {
        "id": "6PRWVTYqV6SJ"
      },
      "execution_count": 23,
      "outputs": []
    }
  ]
}