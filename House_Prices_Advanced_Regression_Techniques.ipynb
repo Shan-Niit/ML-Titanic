{
  "nbformat": 4,
  "nbformat_minor": 0,
  "metadata": {
    "colab": {
      "provenance": [],
      "gpuType": "T4",
      "authorship_tag": "ABX9TyO8VhwRNbEw9GYXlbwG3+RR",
      "include_colab_link": true
    },
    "kernelspec": {
      "name": "python3",
      "display_name": "Python 3"
    },
    "language_info": {
      "name": "python"
    },
    "accelerator": "GPU"
  },
  "cells": [
    {
      "cell_type": "markdown",
      "metadata": {
        "id": "view-in-github",
        "colab_type": "text"
      },
      "source": [
        "<a href=\"https://colab.research.google.com/github/Shan-Niit/ML-Titanic/blob/main/House_Prices_Advanced_Regression_Techniques.ipynb\" target=\"_parent\"><img src=\"https://colab.research.google.com/assets/colab-badge.svg\" alt=\"Open In Colab\"/></a>"
      ]
    },
    {
      "cell_type": "markdown",
      "source": [
        "📘 Project Overview — what is this dataset about?\n",
        "\n",
        "🔍 Objective — predict SalePrice with lowest RMSE\n",
        "\n",
        "📊 EDA — visualizations\n",
        "\n",
        "🚀 Models & Evaluation — with comparison table\n",
        "\n",
        "🧠 Conclusion — what worked best and why"
      ],
      "metadata": {
        "id": "sC3v4yZgIjvm"
      }
    },
    {
      "cell_type": "markdown",
      "source": [
        "## Import libraries"
      ],
      "metadata": {
        "id": "hh58NKWKIyr_"
      }
    },
    {
      "cell_type": "code",
      "execution_count": 68,
      "metadata": {
        "id": "2fAe2JRjIflB"
      },
      "outputs": [],
      "source": [
        "import pandas as pd\n",
        "import numpy as np\n",
        "import matplotlib.pyplot as plt\n",
        "import seaborn as sns\n",
        "import warnings\n",
        "warnings.filterwarnings('ignore')"
      ]
    },
    {
      "cell_type": "code",
      "source": [
        "df = pd.read_csv('/content/train.csv')"
      ],
      "metadata": {
        "id": "V91NqAOvI8RY"
      },
      "execution_count": 69,
      "outputs": []
    },
    {
      "cell_type": "code",
      "source": [
        "df.info()"
      ],
      "metadata": {
        "colab": {
          "base_uri": "https://localhost:8080/"
        },
        "id": "yzzolA6yJFuw",
        "outputId": "d46eb4a6-c5b8-4b3c-c711-a44f36137634"
      },
      "execution_count": 70,
      "outputs": [
        {
          "output_type": "stream",
          "name": "stdout",
          "text": [
            "<class 'pandas.core.frame.DataFrame'>\n",
            "RangeIndex: 1460 entries, 0 to 1459\n",
            "Data columns (total 81 columns):\n",
            " #   Column         Non-Null Count  Dtype  \n",
            "---  ------         --------------  -----  \n",
            " 0   Id             1460 non-null   int64  \n",
            " 1   MSSubClass     1460 non-null   int64  \n",
            " 2   MSZoning       1460 non-null   object \n",
            " 3   LotFrontage    1201 non-null   float64\n",
            " 4   LotArea        1460 non-null   int64  \n",
            " 5   Street         1460 non-null   object \n",
            " 6   Alley          91 non-null     object \n",
            " 7   LotShape       1460 non-null   object \n",
            " 8   LandContour    1460 non-null   object \n",
            " 9   Utilities      1460 non-null   object \n",
            " 10  LotConfig      1460 non-null   object \n",
            " 11  LandSlope      1460 non-null   object \n",
            " 12  Neighborhood   1460 non-null   object \n",
            " 13  Condition1     1460 non-null   object \n",
            " 14  Condition2     1460 non-null   object \n",
            " 15  BldgType       1460 non-null   object \n",
            " 16  HouseStyle     1460 non-null   object \n",
            " 17  OverallQual    1460 non-null   int64  \n",
            " 18  OverallCond    1460 non-null   int64  \n",
            " 19  YearBuilt      1460 non-null   int64  \n",
            " 20  YearRemodAdd   1460 non-null   int64  \n",
            " 21  RoofStyle      1460 non-null   object \n",
            " 22  RoofMatl       1460 non-null   object \n",
            " 23  Exterior1st    1460 non-null   object \n",
            " 24  Exterior2nd    1460 non-null   object \n",
            " 25  MasVnrType     588 non-null    object \n",
            " 26  MasVnrArea     1452 non-null   float64\n",
            " 27  ExterQual      1460 non-null   object \n",
            " 28  ExterCond      1460 non-null   object \n",
            " 29  Foundation     1460 non-null   object \n",
            " 30  BsmtQual       1423 non-null   object \n",
            " 31  BsmtCond       1423 non-null   object \n",
            " 32  BsmtExposure   1422 non-null   object \n",
            " 33  BsmtFinType1   1423 non-null   object \n",
            " 34  BsmtFinSF1     1460 non-null   int64  \n",
            " 35  BsmtFinType2   1422 non-null   object \n",
            " 36  BsmtFinSF2     1460 non-null   int64  \n",
            " 37  BsmtUnfSF      1460 non-null   int64  \n",
            " 38  TotalBsmtSF    1460 non-null   int64  \n",
            " 39  Heating        1460 non-null   object \n",
            " 40  HeatingQC      1460 non-null   object \n",
            " 41  CentralAir     1460 non-null   object \n",
            " 42  Electrical     1459 non-null   object \n",
            " 43  1stFlrSF       1460 non-null   int64  \n",
            " 44  2ndFlrSF       1460 non-null   int64  \n",
            " 45  LowQualFinSF   1460 non-null   int64  \n",
            " 46  GrLivArea      1460 non-null   int64  \n",
            " 47  BsmtFullBath   1460 non-null   int64  \n",
            " 48  BsmtHalfBath   1460 non-null   int64  \n",
            " 49  FullBath       1460 non-null   int64  \n",
            " 50  HalfBath       1460 non-null   int64  \n",
            " 51  BedroomAbvGr   1460 non-null   int64  \n",
            " 52  KitchenAbvGr   1460 non-null   int64  \n",
            " 53  KitchenQual    1460 non-null   object \n",
            " 54  TotRmsAbvGrd   1460 non-null   int64  \n",
            " 55  Functional     1460 non-null   object \n",
            " 56  Fireplaces     1460 non-null   int64  \n",
            " 57  FireplaceQu    770 non-null    object \n",
            " 58  GarageType     1379 non-null   object \n",
            " 59  GarageYrBlt    1379 non-null   float64\n",
            " 60  GarageFinish   1379 non-null   object \n",
            " 61  GarageCars     1460 non-null   int64  \n",
            " 62  GarageArea     1460 non-null   int64  \n",
            " 63  GarageQual     1379 non-null   object \n",
            " 64  GarageCond     1379 non-null   object \n",
            " 65  PavedDrive     1460 non-null   object \n",
            " 66  WoodDeckSF     1460 non-null   int64  \n",
            " 67  OpenPorchSF    1460 non-null   int64  \n",
            " 68  EnclosedPorch  1460 non-null   int64  \n",
            " 69  3SsnPorch      1460 non-null   int64  \n",
            " 70  ScreenPorch    1460 non-null   int64  \n",
            " 71  PoolArea       1460 non-null   int64  \n",
            " 72  PoolQC         7 non-null      object \n",
            " 73  Fence          281 non-null    object \n",
            " 74  MiscFeature    54 non-null     object \n",
            " 75  MiscVal        1460 non-null   int64  \n",
            " 76  MoSold         1460 non-null   int64  \n",
            " 77  YrSold         1460 non-null   int64  \n",
            " 78  SaleType       1460 non-null   object \n",
            " 79  SaleCondition  1460 non-null   object \n",
            " 80  SalePrice      1460 non-null   int64  \n",
            "dtypes: float64(3), int64(35), object(43)\n",
            "memory usage: 924.0+ KB\n"
          ]
        }
      ]
    },
    {
      "cell_type": "code",
      "source": [
        "df.isnull().sum()[df.isnull().sum() > 0]"
      ],
      "metadata": {
        "colab": {
          "base_uri": "https://localhost:8080/",
          "height": 680
        },
        "id": "GZ_jQhgzJOBB",
        "outputId": "af8b7cdf-010c-4fd3-98aa-7aa472cebfee"
      },
      "execution_count": 71,
      "outputs": [
        {
          "output_type": "execute_result",
          "data": {
            "text/plain": [
              "LotFrontage      259\n",
              "Alley           1369\n",
              "MasVnrType       872\n",
              "MasVnrArea         8\n",
              "BsmtQual          37\n",
              "BsmtCond          37\n",
              "BsmtExposure      38\n",
              "BsmtFinType1      37\n",
              "BsmtFinType2      38\n",
              "Electrical         1\n",
              "FireplaceQu      690\n",
              "GarageType        81\n",
              "GarageYrBlt       81\n",
              "GarageFinish      81\n",
              "GarageQual        81\n",
              "GarageCond        81\n",
              "PoolQC          1453\n",
              "Fence           1179\n",
              "MiscFeature     1406\n",
              "dtype: int64"
            ],
            "text/html": [
              "<div>\n",
              "<style scoped>\n",
              "    .dataframe tbody tr th:only-of-type {\n",
              "        vertical-align: middle;\n",
              "    }\n",
              "\n",
              "    .dataframe tbody tr th {\n",
              "        vertical-align: top;\n",
              "    }\n",
              "\n",
              "    .dataframe thead th {\n",
              "        text-align: right;\n",
              "    }\n",
              "</style>\n",
              "<table border=\"1\" class=\"dataframe\">\n",
              "  <thead>\n",
              "    <tr style=\"text-align: right;\">\n",
              "      <th></th>\n",
              "      <th>0</th>\n",
              "    </tr>\n",
              "  </thead>\n",
              "  <tbody>\n",
              "    <tr>\n",
              "      <th>LotFrontage</th>\n",
              "      <td>259</td>\n",
              "    </tr>\n",
              "    <tr>\n",
              "      <th>Alley</th>\n",
              "      <td>1369</td>\n",
              "    </tr>\n",
              "    <tr>\n",
              "      <th>MasVnrType</th>\n",
              "      <td>872</td>\n",
              "    </tr>\n",
              "    <tr>\n",
              "      <th>MasVnrArea</th>\n",
              "      <td>8</td>\n",
              "    </tr>\n",
              "    <tr>\n",
              "      <th>BsmtQual</th>\n",
              "      <td>37</td>\n",
              "    </tr>\n",
              "    <tr>\n",
              "      <th>BsmtCond</th>\n",
              "      <td>37</td>\n",
              "    </tr>\n",
              "    <tr>\n",
              "      <th>BsmtExposure</th>\n",
              "      <td>38</td>\n",
              "    </tr>\n",
              "    <tr>\n",
              "      <th>BsmtFinType1</th>\n",
              "      <td>37</td>\n",
              "    </tr>\n",
              "    <tr>\n",
              "      <th>BsmtFinType2</th>\n",
              "      <td>38</td>\n",
              "    </tr>\n",
              "    <tr>\n",
              "      <th>Electrical</th>\n",
              "      <td>1</td>\n",
              "    </tr>\n",
              "    <tr>\n",
              "      <th>FireplaceQu</th>\n",
              "      <td>690</td>\n",
              "    </tr>\n",
              "    <tr>\n",
              "      <th>GarageType</th>\n",
              "      <td>81</td>\n",
              "    </tr>\n",
              "    <tr>\n",
              "      <th>GarageYrBlt</th>\n",
              "      <td>81</td>\n",
              "    </tr>\n",
              "    <tr>\n",
              "      <th>GarageFinish</th>\n",
              "      <td>81</td>\n",
              "    </tr>\n",
              "    <tr>\n",
              "      <th>GarageQual</th>\n",
              "      <td>81</td>\n",
              "    </tr>\n",
              "    <tr>\n",
              "      <th>GarageCond</th>\n",
              "      <td>81</td>\n",
              "    </tr>\n",
              "    <tr>\n",
              "      <th>PoolQC</th>\n",
              "      <td>1453</td>\n",
              "    </tr>\n",
              "    <tr>\n",
              "      <th>Fence</th>\n",
              "      <td>1179</td>\n",
              "    </tr>\n",
              "    <tr>\n",
              "      <th>MiscFeature</th>\n",
              "      <td>1406</td>\n",
              "    </tr>\n",
              "  </tbody>\n",
              "</table>\n",
              "</div><br><label><b>dtype:</b> int64</label>"
            ]
          },
          "metadata": {},
          "execution_count": 71
        }
      ]
    },
    {
      "cell_type": "markdown",
      "source": [
        "## Change all the Na for categorical features for \"No ...\""
      ],
      "metadata": {
        "id": "LDFZAil9I1FY"
      }
    },
    {
      "cell_type": "code",
      "source": [
        "df[\"MiscFeature\"] = df[\"MiscFeature\"].fillna(\"No feature\")\n",
        "df[\"Fence\"] = df[\"Fence\"].fillna(\"No Fence\")\n",
        "df[\"PoolQC\"] = df[\"PoolQC\"].fillna(\"No Pool\")\n",
        "df[\"GarageCond\"] = df[\"GarageCond\"].fillna(\"No Garage\")\n",
        "df[\"GarageQual\"] = df[\"GarageQual\"].fillna(\"No Garage\")\n",
        "df[\"GarageFinish\"] = df[\"GarageFinish\"].fillna(\"No Garage\")\n",
        "df[\"GarageType\"] = df[\"GarageType\"].fillna(\"No Garage\")\n",
        "df[\"BsmtFinType2\"] = df[\"BsmtFinType2\"].fillna(\"No Basement\")\n",
        "df[\"BsmtFinType1\"] = df[\"BsmtFinType1\"].fillna(\"No Basement\")\n",
        "df[\"BsmtCond\"] = df[\"BsmtCond\"].fillna(\"No Basement\")\n",
        "df[\"BsmtQual\"] = df[\"BsmtQual\"].fillna(\"No Basement\")\n",
        "df[\"FireplaceQu\"] = df[\"FireplaceQu\"].fillna(\"No Fireplace\")\n",
        "df[\"MasVnrType\"] = df[\"MasVnrType\"].fillna(\"No Veneer\")\n",
        "df[\"Alley\"] = df[\"Alley\"].fillna(\"No Alley\")\n",
        "df[\"BsmtExposure\"] = df[\"BsmtExposure\"].fillna(\"No Basement\")\n"
      ],
      "metadata": {
        "id": "QbaxaUOaJlIO"
      },
      "execution_count": 72,
      "outputs": []
    },
    {
      "cell_type": "markdown",
      "source": [
        "## What are still missing:"
      ],
      "metadata": {
        "id": "cSIZATsFJIOF"
      }
    },
    {
      "cell_type": "code",
      "source": [
        "df.isnull().sum()[df.isnull().sum() > 0]"
      ],
      "metadata": {
        "colab": {
          "base_uri": "https://localhost:8080/",
          "height": 209
        },
        "id": "-XjhAit5JHWW",
        "outputId": "3839abfc-837d-4f05-def8-eff025d1bc01"
      },
      "execution_count": 73,
      "outputs": [
        {
          "output_type": "execute_result",
          "data": {
            "text/plain": [
              "LotFrontage    259\n",
              "MasVnrArea       8\n",
              "Electrical       1\n",
              "GarageYrBlt     81\n",
              "dtype: int64"
            ],
            "text/html": [
              "<div>\n",
              "<style scoped>\n",
              "    .dataframe tbody tr th:only-of-type {\n",
              "        vertical-align: middle;\n",
              "    }\n",
              "\n",
              "    .dataframe tbody tr th {\n",
              "        vertical-align: top;\n",
              "    }\n",
              "\n",
              "    .dataframe thead th {\n",
              "        text-align: right;\n",
              "    }\n",
              "</style>\n",
              "<table border=\"1\" class=\"dataframe\">\n",
              "  <thead>\n",
              "    <tr style=\"text-align: right;\">\n",
              "      <th></th>\n",
              "      <th>0</th>\n",
              "    </tr>\n",
              "  </thead>\n",
              "  <tbody>\n",
              "    <tr>\n",
              "      <th>LotFrontage</th>\n",
              "      <td>259</td>\n",
              "    </tr>\n",
              "    <tr>\n",
              "      <th>MasVnrArea</th>\n",
              "      <td>8</td>\n",
              "    </tr>\n",
              "    <tr>\n",
              "      <th>Electrical</th>\n",
              "      <td>1</td>\n",
              "    </tr>\n",
              "    <tr>\n",
              "      <th>GarageYrBlt</th>\n",
              "      <td>81</td>\n",
              "    </tr>\n",
              "  </tbody>\n",
              "</table>\n",
              "</div><br><label><b>dtype:</b> int64</label>"
            ]
          },
          "metadata": {},
          "execution_count": 73
        }
      ]
    },
    {
      "cell_type": "code",
      "source": [
        "df[\"MasVnrArea\"] = df[\"MasVnrArea\"].fillna(0)\n",
        "df = df.dropna(subset=['Electrical']) # Only one row is missing\n",
        "df['GarageYrBlt'].fillna(0, inplace=True)\n",
        "# Create a new column: 1 if garage exists, 0 otherwise\n",
        "df['HasGarage'] = df['GarageYrBlt'].apply(lambda x: 0 if x == 0 else 1)"
      ],
      "metadata": {
        "id": "ELmrcbfefmO5"
      },
      "execution_count": 74,
      "outputs": []
    },
    {
      "cell_type": "code",
      "source": [
        "df['GarageYrBlt'].fillna(0, inplace=True)\n",
        "# Create a new column: 1 if garage exists, 0 otherwise\n",
        "df['HasGarage'] = df['GarageYrBlt'].apply(lambda x: 0 if x == 0 else 1)\n",
        "\n",
        "#impute missing values using the median per Neighborhood:\n",
        "df[\"LotFrontage\"] = df.groupby(\"Neighborhood\")[\"LotFrontage\"].transform(\n",
        "    lambda x: x.fillna(x.median())\n",
        ")\n"
      ],
      "metadata": {
        "id": "1Aiw9mroiCPy"
      },
      "execution_count": 75,
      "outputs": []
    },
    {
      "cell_type": "code",
      "source": [
        "print(df.isnull().sum()[df.isnull().sum() > 0])\n",
        "df.duplicated().sum()\n",
        "# No missing value anymore and no duplicate"
      ],
      "metadata": {
        "colab": {
          "base_uri": "https://localhost:8080/"
        },
        "id": "HX_yivqUgRrC",
        "outputId": "ef1057b3-aa91-488a-962d-73099f4e9e37"
      },
      "execution_count": 76,
      "outputs": [
        {
          "output_type": "stream",
          "name": "stdout",
          "text": [
            "Series([], dtype: int64)\n"
          ]
        },
        {
          "output_type": "execute_result",
          "data": {
            "text/plain": [
              "np.int64(0)"
            ]
          },
          "metadata": {},
          "execution_count": 76
        }
      ]
    },
    {
      "cell_type": "markdown",
      "source": [
        "## Preprocessing pipeline"
      ],
      "metadata": {
        "id": "H-MxcTXMpePv"
      }
    },
    {
      "cell_type": "code",
      "source": [
        "from sklearn.compose import ColumnTransformer\n",
        "from sklearn.preprocessing import StandardScaler, OneHotEncoder\n",
        "from sklearn.pipeline import Pipeline\n",
        "from sklearn.impute import SimpleImputer\n",
        "\n",
        "# Separate columns by data type\n",
        "categorical_cols = df.select_dtypes(include=['object', 'category']).columns.tolist()\n",
        "numerical_cols = df.select_dtypes(include=['int64', 'float64']).columns.tolist()\n",
        "numerical_cols.remove('Id')\n",
        "numerical_cols.remove('SalePrice')\n",
        "\n",
        "# Define features and target\n",
        "X_train = df.drop(['SalePrice', 'Id'], axis=1)\n",
        "y = df['SalePrice']\n",
        "\n",
        "# Define preprocessing for numerical and categorical data\n",
        "numerical_transformer = Pipeline(steps=[\n",
        "    ('imputer', SimpleImputer(strategy='mean')),\n",
        "    ('scaler', StandardScaler())                   # Scale numerical data\n",
        "])\n",
        "\n",
        "categorical_transformer = Pipeline(steps=[\n",
        "    ('imputer', SimpleImputer(strategy='most_frequent')),\n",
        "    ('onehot', OneHotEncoder(sparse_output=False))        # OneHotEncode categorical data (sparse=False to avoid sparse matrix)\n",
        "])\n",
        "\n",
        "# Combine both transformers into a single preprocessing step\n",
        "preprocessor = ColumnTransformer(\n",
        "    transformers=[\n",
        "        ('num', numerical_transformer, numerical_cols),\n",
        "        ('cat', categorical_transformer, categorical_cols)\n",
        "    ])\n",
        "\n",
        "# Apply the transformations to X\n",
        "X_prepro = preprocessor.fit_transform(X_train)\n",
        "\n",
        "# Get column names for the transformed features\n",
        "num_cols = numerical_cols\n",
        "cat_cols = preprocessor.named_transformers_['cat']['onehot'].get_feature_names_out(categorical_cols)\n",
        "\n",
        "# Combine the column names into one list\n",
        "all_columns = list(num_cols) + list(cat_cols)\n",
        "\n",
        "# Convert the transformed data to a DataFrame\n",
        "X_final = pd.DataFrame(X_prepro, columns=all_columns)\n",
        "\n",
        "# Display the result\n",
        "print(X_final.head())\n"
      ],
      "metadata": {
        "colab": {
          "base_uri": "https://localhost:8080/"
        },
        "id": "NOzNwUt1h5DV",
        "outputId": "24c7fea2-5a40-455b-dd9a-48f9936a8c70"
      },
      "execution_count": 77,
      "outputs": [
        {
          "output_type": "stream",
          "name": "stdout",
          "text": [
            "   MSSubClass  LotFrontage   LotArea  OverallQual  OverallCond  YearBuilt  \\\n",
            "0    0.073732    -0.231713 -0.207125     0.650852    -0.517424   1.051899   \n",
            "1   -0.871979     0.436981 -0.091909    -0.072372     2.178727   0.157540   \n",
            "2    0.073732    -0.097974  0.073401     0.650852    -0.517424   0.985650   \n",
            "3    0.310159    -0.454611 -0.096918     0.650852    -0.517424  -1.863050   \n",
            "4    0.073732     0.615299  0.374967     1.374077    -0.517424   0.952526   \n",
            "\n",
            "   YearRemodAdd  MasVnrArea  BsmtFinSF1  BsmtFinSF2  ...  SaleType_ConLw  \\\n",
            "0      0.879449    0.513594    0.574748    -0.28876  ...             0.0   \n",
            "1     -0.428864   -0.571009    1.171304    -0.28876  ...             0.0   \n",
            "2      0.830993    0.325449    0.092239    -0.28876  ...             0.0   \n",
            "3     -0.719600   -0.571009   -0.499931    -0.28876  ...             0.0   \n",
            "4      0.734081    1.365783    0.462893    -0.28876  ...             0.0   \n",
            "\n",
            "   SaleType_New  SaleType_Oth  SaleType_WD  SaleCondition_Abnorml  \\\n",
            "0           0.0           0.0          1.0                    0.0   \n",
            "1           0.0           0.0          1.0                    0.0   \n",
            "2           0.0           0.0          1.0                    0.0   \n",
            "3           0.0           0.0          1.0                    1.0   \n",
            "4           0.0           0.0          1.0                    0.0   \n",
            "\n",
            "   SaleCondition_AdjLand  SaleCondition_Alloca  SaleCondition_Family  \\\n",
            "0                    0.0                   0.0                   0.0   \n",
            "1                    0.0                   0.0                   0.0   \n",
            "2                    0.0                   0.0                   0.0   \n",
            "3                    0.0                   0.0                   0.0   \n",
            "4                    0.0                   0.0                   0.0   \n",
            "\n",
            "   SaleCondition_Normal  SaleCondition_Partial  \n",
            "0                   1.0                    0.0  \n",
            "1                   1.0                    0.0  \n",
            "2                   1.0                    0.0  \n",
            "3                   0.0                    0.0  \n",
            "4                   1.0                    0.0  \n",
            "\n",
            "[5 rows x 303 columns]\n"
          ]
        }
      ]
    },
    {
      "cell_type": "markdown",
      "source": [
        "##Import the models"
      ],
      "metadata": {
        "id": "HnWCyQ8xd5fy"
      }
    },
    {
      "cell_type": "code",
      "source": [
        "from sklearn.model_selection import GridSearchCV\n",
        "from sklearn.linear_model import LinearRegression, Ridge, Lasso\n",
        "from sklearn.tree import DecisionTreeRegressor\n",
        "from sklearn.ensemble import RandomForestRegressor, GradientBoostingRegressor\n",
        "from sklearn.svm import SVR\n",
        "from sklearn.neighbors import KNeighborsRegressor\n",
        "from sklearn.neural_network import MLPRegressor\n",
        "from xgboost import XGBRegressor\n"
      ],
      "metadata": {
        "id": "pGv-KZ67d5FH"
      },
      "execution_count": 11,
      "outputs": []
    },
    {
      "cell_type": "markdown",
      "source": [
        "##Define models and their hyperparameters"
      ],
      "metadata": {
        "id": "vR2Hr1myeBuX"
      }
    },
    {
      "cell_type": "code",
      "source": [
        "model_param = {\n",
        "    'LinearRegression': {\n",
        "        'model': LinearRegression(),\n",
        "        'params': {}  # No hyperparameters for Linear Regression\n",
        "    },\n",
        "    'Ridge': {\n",
        "        'model': Ridge(),\n",
        "        'params': {\n",
        "            'alpha': [0.1, 1.0, 10.0, 100.0]\n",
        "        }\n",
        "    },\n",
        "    'Lasso': {\n",
        "        'model': Lasso(),\n",
        "        'params': {\n",
        "            'alpha': [0.1, 1.0, 10.0, 100.0]\n",
        "        }\n",
        "    },\n",
        "    'DecisionTree': {\n",
        "        'model': DecisionTreeRegressor(),\n",
        "        'params': {\n",
        "            'max_depth': [None, 10, 20, 30],\n",
        "            'min_samples_split': [2, 5, 10]\n",
        "        }\n",
        "    },\n",
        "    'RandomForest': {\n",
        "        'model': RandomForestRegressor(),\n",
        "        'params': {\n",
        "            'n_estimators': [100, 200],\n",
        "            'max_depth': [None, 10, 20],\n",
        "            'min_samples_split': [2, 5, 10]\n",
        "        }\n",
        "    },\n",
        "    'GradientBoosting': {\n",
        "        'model': GradientBoostingRegressor(),\n",
        "        'params': {\n",
        "            'n_estimators': [100, 200],\n",
        "            'learning_rate': [0.01, 0.1, 0.2],\n",
        "            'max_depth': [3, 4, 5]\n",
        "        }\n",
        "    },\n",
        "    'SVR': {\n",
        "        'model': SVR(),\n",
        "        'params': {\n",
        "            'C': [0.1, 1, 10],\n",
        "            'kernel': ['linear', 'rbf'],\n",
        "            'gamma': ['scale', 'auto']\n",
        "        }\n",
        "    },\n",
        "    'KNeighbors': {\n",
        "        'model': KNeighborsRegressor(),\n",
        "        'params': {\n",
        "            'n_neighbors': [3, 5, 7],\n",
        "            'weights': ['uniform', 'distance'],\n",
        "            'algorithm': ['auto', 'ball_tree', 'kd_tree', 'brute']\n",
        "        }\n",
        "    },\n",
        "    'MLPRegressor': {\n",
        "        'model': MLPRegressor(),\n",
        "        'params': {\n",
        "            'hidden_layer_sizes': [(50,), (100,), (100, 50)],\n",
        "            'activation': ['relu', 'tanh'],\n",
        "            'solver': ['adam', 'lbfgs'],\n",
        "            'max_iter': [200, 500]\n",
        "        }\n",
        "    },\n",
        "    'XGBoost' : {\n",
        "    'model': XGBRegressor(objective='reg:squarederror', random_state=42),\n",
        "    'params': {\n",
        "        'n_estimators': [100, 200],\n",
        "        'learning_rate': [0.05, 0.1],\n",
        "        'max_depth': [3, 5, 7],\n",
        "        'subsample': [0.8, 1],\n",
        "        'colsample_bytree': [0.8, 1]\n",
        "        }\n",
        "    }\n",
        "}"
      ],
      "metadata": {
        "collapsed": true,
        "id": "JLUrXiaovYCz"
      },
      "execution_count": 12,
      "outputs": []
    },
    {
      "cell_type": "markdown",
      "source": [
        "## Split the data"
      ],
      "metadata": {
        "id": "ycvMotRhekBS"
      }
    },
    {
      "cell_type": "code",
      "source": [
        "from sklearn.model_selection import train_test_split\n",
        "X_train, X_test, y_train, y_test = train_test_split(X_final, y, test_size=0.2, random_state=42)\n"
      ],
      "metadata": {
        "id": "erdWXRUCexri"
      },
      "execution_count": 13,
      "outputs": []
    },
    {
      "cell_type": "markdown",
      "source": [
        "## Loop on all the models to find the best parameters with a cross validation"
      ],
      "metadata": {
        "id": "uI1K6DThe3Z8"
      }
    },
    {
      "cell_type": "code",
      "source": [
        "from sklearn.metrics import mean_squared_error\n",
        "import numpy as np\n",
        "\n",
        "# Initialize dictionary to store models with best params\n",
        "best_models = {}\n",
        "\n",
        "# Loop through models and perform GridSearchCV with cross-validation\n",
        "results = {}\n",
        "for model_name, model_info in model_param.items():\n",
        "    model = model_info['model']\n",
        "    param_grid = model_info['params']\n",
        "\n",
        "    # Set up GridSearchCv\n",
        "    grid_search = GridSearchCV(model, param_grid, cv=2, scoring='neg_mean_squared_error', n_jobs=-1, verbose=2)\n",
        "\n",
        "    # Fit the model and find the best parameters\n",
        "    grid_search.fit(X_train, y_train)\n",
        "\n",
        "    # Get best score and best parameters\n",
        "    best_score = grid_search.best_score_\n",
        "    best_params = grid_search.best_params_\n",
        "\n",
        "    # Store the fitted model and results\n",
        "    results[model_name] = {\n",
        "        'best_score': best_score,\n",
        "        'best_params': best_params\n",
        "    }\n",
        "    best_models[model_name] = grid_search.best_estimator_\n",
        "\n",
        "# Display results from cross-validation\n",
        "print(\"Cross-validation results:\")\n",
        "for model_name, result in results.items():\n",
        "    rmse = np.sqrt(-result['best_score'])\n",
        "    print(f\"{model_name}: Best RMSE (CV) = {rmse:.4f}, Best Parameters = {result['best_params']}\")"
      ],
      "metadata": {
        "id": "RFMj_Ce8n3AX",
        "colab": {
          "base_uri": "https://localhost:8080/"
        },
        "outputId": "671e5726-7817-4aa2-c5df-168f22b7e51f"
      },
      "execution_count": 14,
      "outputs": [
        {
          "output_type": "stream",
          "name": "stdout",
          "text": [
            "Fitting 2 folds for each of 1 candidates, totalling 2 fits\n",
            "Fitting 2 folds for each of 4 candidates, totalling 8 fits\n",
            "Fitting 2 folds for each of 4 candidates, totalling 8 fits\n",
            "Fitting 2 folds for each of 12 candidates, totalling 24 fits\n",
            "Fitting 2 folds for each of 18 candidates, totalling 36 fits\n",
            "Fitting 2 folds for each of 18 candidates, totalling 36 fits\n",
            "Fitting 2 folds for each of 12 candidates, totalling 24 fits\n",
            "Fitting 2 folds for each of 24 candidates, totalling 48 fits\n",
            "Fitting 2 folds for each of 24 candidates, totalling 48 fits\n",
            "Fitting 2 folds for each of 48 candidates, totalling 96 fits\n",
            "Cross-validation results:\n",
            "LinearRegression: Best RMSE (CV) = 43533.7060, Best Parameters = {}\n",
            "Ridge: Best RMSE (CV) = 35788.2745, Best Parameters = {'alpha': 100.0}\n",
            "Lasso: Best RMSE (CV) = 35191.6033, Best Parameters = {'alpha': 100.0}\n",
            "DecisionTree: Best RMSE (CV) = 44788.3064, Best Parameters = {'max_depth': 30, 'min_samples_split': 10}\n",
            "RandomForest: Best RMSE (CV) = 33049.9604, Best Parameters = {'max_depth': None, 'min_samples_split': 2, 'n_estimators': 100}\n",
            "GradientBoosting: Best RMSE (CV) = 31783.0352, Best Parameters = {'learning_rate': 0.2, 'max_depth': 4, 'n_estimators': 200}\n",
            "SVR: Best RMSE (CV) = 58874.5037, Best Parameters = {'C': 10, 'gamma': 'scale', 'kernel': 'linear'}\n",
            "KNeighbors: Best RMSE (CV) = 39946.1803, Best Parameters = {'algorithm': 'auto', 'n_neighbors': 7, 'weights': 'distance'}\n",
            "MLPRegressor: Best RMSE (CV) = 38660.4193, Best Parameters = {'activation': 'relu', 'hidden_layer_sizes': (100, 50), 'max_iter': 500, 'solver': 'adam'}\n",
            "XGBoost: Best RMSE (CV) = 30849.1131, Best Parameters = {'colsample_bytree': 1, 'learning_rate': 0.05, 'max_depth': 3, 'n_estimators': 200, 'subsample': 0.8}\n"
          ]
        }
      ]
    },
    {
      "cell_type": "markdown",
      "source": [
        "## Display accuracy with the best parameters for each model"
      ],
      "metadata": {
        "id": "NIYwQkV4fU5Y"
      }
    },
    {
      "cell_type": "code",
      "source": [
        "# Evaluate all best models on the hold-out set\n",
        "print(\"\\nTest set results:\")\n",
        "for name, model in best_models.items():\n",
        "    y_pred = model.predict(X_test)\n",
        "    rmse = np.sqrt(mean_squared_error(y_test, y_pred))\n",
        "    print(f\"Test RMSE for {name}: {rmse:.4f}\")"
      ],
      "metadata": {
        "id": "1zdp56STfBfb",
        "colab": {
          "base_uri": "https://localhost:8080/"
        },
        "outputId": "18597be5-49a4-4db0-caa2-a2f18e437754"
      },
      "execution_count": 15,
      "outputs": [
        {
          "output_type": "stream",
          "name": "stdout",
          "text": [
            "\n",
            "Test set results:\n",
            "Test RMSE for LinearRegression: 88385.5246\n",
            "Test RMSE for Ridge: 22707.4355\n",
            "Test RMSE for Lasso: 22558.1025\n",
            "Test RMSE for DecisionTree: 39545.9726\n",
            "Test RMSE for RandomForest: 24760.8584\n",
            "Test RMSE for GradientBoosting: 22625.3115\n",
            "Test RMSE for SVR: 38855.1477\n",
            "Test RMSE for KNeighbors: 30822.7423\n",
            "Test RMSE for MLPRegressor: 23358.0029\n",
            "Test RMSE for XGBoost: 21924.0223\n"
          ]
        }
      ]
    },
    {
      "cell_type": "markdown",
      "source": [
        "XGBoost has the lowest RMSE on the test set, with a value of 21,924.0223, making it the best-performing model for predicting the house prices in this case."
      ],
      "metadata": {
        "id": "S5rg6Qg-4vLS"
      }
    },
    {
      "cell_type": "markdown",
      "source": [
        "## Best features :"
      ],
      "metadata": {
        "id": "f49uU6lc5yTe"
      }
    },
    {
      "cell_type": "code",
      "source": [
        "for name, model in best_models.items():\n",
        "    if hasattr(model, 'feature_importances_'):\n",
        "        importances = model.feature_importances_\n",
        "        indices = np.argsort(importances)[::-1]\n",
        "        print(f\"{name} Feature Importances:\")\n",
        "        for i in indices[:10]:  # Top 10 important features\n",
        "            print(f\"{X_final.columns[i]}: {importances[i]:.4f}\")\n"
      ],
      "metadata": {
        "colab": {
          "base_uri": "https://localhost:8080/"
        },
        "id": "oysjio5X2kPK",
        "outputId": "af47cfc4-ece5-4339-ba6c-755d0155acf8"
      },
      "execution_count": 16,
      "outputs": [
        {
          "output_type": "stream",
          "name": "stdout",
          "text": [
            "DecisionTree Feature Importances:\n",
            "OverallQual: 0.5896\n",
            "TotalBsmtSF: 0.0897\n",
            "GrLivArea: 0.0815\n",
            "2ndFlrSF: 0.0376\n",
            "BsmtFinSF1: 0.0358\n",
            "TotRmsAbvGrd: 0.0286\n",
            "BsmtQual_Ex: 0.0192\n",
            "LotFrontage: 0.0167\n",
            "GarageArea: 0.0108\n",
            "OpenPorchSF: 0.0080\n",
            "RandomForest Feature Importances:\n",
            "OverallQual: 0.5655\n",
            "GrLivArea: 0.1013\n",
            "TotalBsmtSF: 0.0505\n",
            "2ndFlrSF: 0.0472\n",
            "BsmtFinSF1: 0.0270\n",
            "LotArea: 0.0142\n",
            "1stFlrSF: 0.0131\n",
            "GarageArea: 0.0127\n",
            "GarageCars: 0.0125\n",
            "TotRmsAbvGrd: 0.0118\n",
            "GradientBoosting Feature Importances:\n",
            "OverallQual: 0.5003\n",
            "GrLivArea: 0.1193\n",
            "TotalBsmtSF: 0.0555\n",
            "GarageCars: 0.0494\n",
            "BsmtFinSF1: 0.0370\n",
            "2ndFlrSF: 0.0331\n",
            "TotRmsAbvGrd: 0.0271\n",
            "YearBuilt: 0.0181\n",
            "LotArea: 0.0133\n",
            "1stFlrSF: 0.0123\n",
            "XGBoost Feature Importances:\n",
            "OverallQual: 0.1769\n",
            "GarageCars: 0.0987\n",
            "BsmtQual_Ex: 0.0852\n",
            "Neighborhood_NridgHt: 0.0438\n",
            "ExterQual_Gd: 0.0404\n",
            "KitchenQual_Ex: 0.0329\n",
            "GarageFinish_Unf: 0.0318\n",
            "GrLivArea: 0.0271\n",
            "GarageType_Attchd: 0.0263\n",
            "KitchenQual_Gd: 0.0262\n"
          ]
        }
      ]
    },
    {
      "cell_type": "markdown",
      "source": [
        "OverallQual stands out as the most important feature in DecisionTree (0.5942), RandomForest (0.5710), and GradientBoosting (0.5028).\n",
        "\n",
        "GrLivArea is consistently important across RandomForest (0.1038), GradientBoosting (0.1190), and XGBoost (0.0271).\n",
        "\n",
        "XGBoost places significant importance on GarageCars (0.0987), BsmtQual_Ex (0.0852), and features related to neighborhood, such as Neighborhood_NridgHt (0.0438)."
      ],
      "metadata": {
        "id": "MbfPBTG26UiC"
      }
    },
    {
      "cell_type": "code",
      "source": [
        "final_model = best_models['XGBoost']\n",
        "final_model.fit(X_final, y)"
      ],
      "metadata": {
        "colab": {
          "base_uri": "https://localhost:8080/",
          "height": 236
        },
        "id": "hlXgiaws47Nl",
        "outputId": "d749a8cc-ba47-4009-c93a-392e975227a3"
      },
      "execution_count": 17,
      "outputs": [
        {
          "output_type": "execute_result",
          "data": {
            "text/plain": [
              "XGBRegressor(base_score=None, booster=None, callbacks=None,\n",
              "             colsample_bylevel=None, colsample_bynode=None, colsample_bytree=1,\n",
              "             device=None, early_stopping_rounds=None, enable_categorical=False,\n",
              "             eval_metric=None, feature_types=None, gamma=None, grow_policy=None,\n",
              "             importance_type=None, interaction_constraints=None,\n",
              "             learning_rate=0.05, max_bin=None, max_cat_threshold=None,\n",
              "             max_cat_to_onehot=None, max_delta_step=None, max_depth=3,\n",
              "             max_leaves=None, min_child_weight=None, missing=nan,\n",
              "             monotone_constraints=None, multi_strategy=None, n_estimators=200,\n",
              "             n_jobs=None, num_parallel_tree=None, random_state=42, ...)"
            ],
            "text/html": [
              "<style>#sk-container-id-1 {\n",
              "  /* Definition of color scheme common for light and dark mode */\n",
              "  --sklearn-color-text: #000;\n",
              "  --sklearn-color-text-muted: #666;\n",
              "  --sklearn-color-line: gray;\n",
              "  /* Definition of color scheme for unfitted estimators */\n",
              "  --sklearn-color-unfitted-level-0: #fff5e6;\n",
              "  --sklearn-color-unfitted-level-1: #f6e4d2;\n",
              "  --sklearn-color-unfitted-level-2: #ffe0b3;\n",
              "  --sklearn-color-unfitted-level-3: chocolate;\n",
              "  /* Definition of color scheme for fitted estimators */\n",
              "  --sklearn-color-fitted-level-0: #f0f8ff;\n",
              "  --sklearn-color-fitted-level-1: #d4ebff;\n",
              "  --sklearn-color-fitted-level-2: #b3dbfd;\n",
              "  --sklearn-color-fitted-level-3: cornflowerblue;\n",
              "\n",
              "  /* Specific color for light theme */\n",
              "  --sklearn-color-text-on-default-background: var(--sg-text-color, var(--theme-code-foreground, var(--jp-content-font-color1, black)));\n",
              "  --sklearn-color-background: var(--sg-background-color, var(--theme-background, var(--jp-layout-color0, white)));\n",
              "  --sklearn-color-border-box: var(--sg-text-color, var(--theme-code-foreground, var(--jp-content-font-color1, black)));\n",
              "  --sklearn-color-icon: #696969;\n",
              "\n",
              "  @media (prefers-color-scheme: dark) {\n",
              "    /* Redefinition of color scheme for dark theme */\n",
              "    --sklearn-color-text-on-default-background: var(--sg-text-color, var(--theme-code-foreground, var(--jp-content-font-color1, white)));\n",
              "    --sklearn-color-background: var(--sg-background-color, var(--theme-background, var(--jp-layout-color0, #111)));\n",
              "    --sklearn-color-border-box: var(--sg-text-color, var(--theme-code-foreground, var(--jp-content-font-color1, white)));\n",
              "    --sklearn-color-icon: #878787;\n",
              "  }\n",
              "}\n",
              "\n",
              "#sk-container-id-1 {\n",
              "  color: var(--sklearn-color-text);\n",
              "}\n",
              "\n",
              "#sk-container-id-1 pre {\n",
              "  padding: 0;\n",
              "}\n",
              "\n",
              "#sk-container-id-1 input.sk-hidden--visually {\n",
              "  border: 0;\n",
              "  clip: rect(1px 1px 1px 1px);\n",
              "  clip: rect(1px, 1px, 1px, 1px);\n",
              "  height: 1px;\n",
              "  margin: -1px;\n",
              "  overflow: hidden;\n",
              "  padding: 0;\n",
              "  position: absolute;\n",
              "  width: 1px;\n",
              "}\n",
              "\n",
              "#sk-container-id-1 div.sk-dashed-wrapped {\n",
              "  border: 1px dashed var(--sklearn-color-line);\n",
              "  margin: 0 0.4em 0.5em 0.4em;\n",
              "  box-sizing: border-box;\n",
              "  padding-bottom: 0.4em;\n",
              "  background-color: var(--sklearn-color-background);\n",
              "}\n",
              "\n",
              "#sk-container-id-1 div.sk-container {\n",
              "  /* jupyter's `normalize.less` sets `[hidden] { display: none; }`\n",
              "     but bootstrap.min.css set `[hidden] { display: none !important; }`\n",
              "     so we also need the `!important` here to be able to override the\n",
              "     default hidden behavior on the sphinx rendered scikit-learn.org.\n",
              "     See: https://github.com/scikit-learn/scikit-learn/issues/21755 */\n",
              "  display: inline-block !important;\n",
              "  position: relative;\n",
              "}\n",
              "\n",
              "#sk-container-id-1 div.sk-text-repr-fallback {\n",
              "  display: none;\n",
              "}\n",
              "\n",
              "div.sk-parallel-item,\n",
              "div.sk-serial,\n",
              "div.sk-item {\n",
              "  /* draw centered vertical line to link estimators */\n",
              "  background-image: linear-gradient(var(--sklearn-color-text-on-default-background), var(--sklearn-color-text-on-default-background));\n",
              "  background-size: 2px 100%;\n",
              "  background-repeat: no-repeat;\n",
              "  background-position: center center;\n",
              "}\n",
              "\n",
              "/* Parallel-specific style estimator block */\n",
              "\n",
              "#sk-container-id-1 div.sk-parallel-item::after {\n",
              "  content: \"\";\n",
              "  width: 100%;\n",
              "  border-bottom: 2px solid var(--sklearn-color-text-on-default-background);\n",
              "  flex-grow: 1;\n",
              "}\n",
              "\n",
              "#sk-container-id-1 div.sk-parallel {\n",
              "  display: flex;\n",
              "  align-items: stretch;\n",
              "  justify-content: center;\n",
              "  background-color: var(--sklearn-color-background);\n",
              "  position: relative;\n",
              "}\n",
              "\n",
              "#sk-container-id-1 div.sk-parallel-item {\n",
              "  display: flex;\n",
              "  flex-direction: column;\n",
              "}\n",
              "\n",
              "#sk-container-id-1 div.sk-parallel-item:first-child::after {\n",
              "  align-self: flex-end;\n",
              "  width: 50%;\n",
              "}\n",
              "\n",
              "#sk-container-id-1 div.sk-parallel-item:last-child::after {\n",
              "  align-self: flex-start;\n",
              "  width: 50%;\n",
              "}\n",
              "\n",
              "#sk-container-id-1 div.sk-parallel-item:only-child::after {\n",
              "  width: 0;\n",
              "}\n",
              "\n",
              "/* Serial-specific style estimator block */\n",
              "\n",
              "#sk-container-id-1 div.sk-serial {\n",
              "  display: flex;\n",
              "  flex-direction: column;\n",
              "  align-items: center;\n",
              "  background-color: var(--sklearn-color-background);\n",
              "  padding-right: 1em;\n",
              "  padding-left: 1em;\n",
              "}\n",
              "\n",
              "\n",
              "/* Toggleable style: style used for estimator/Pipeline/ColumnTransformer box that is\n",
              "clickable and can be expanded/collapsed.\n",
              "- Pipeline and ColumnTransformer use this feature and define the default style\n",
              "- Estimators will overwrite some part of the style using the `sk-estimator` class\n",
              "*/\n",
              "\n",
              "/* Pipeline and ColumnTransformer style (default) */\n",
              "\n",
              "#sk-container-id-1 div.sk-toggleable {\n",
              "  /* Default theme specific background. It is overwritten whether we have a\n",
              "  specific estimator or a Pipeline/ColumnTransformer */\n",
              "  background-color: var(--sklearn-color-background);\n",
              "}\n",
              "\n",
              "/* Toggleable label */\n",
              "#sk-container-id-1 label.sk-toggleable__label {\n",
              "  cursor: pointer;\n",
              "  display: flex;\n",
              "  width: 100%;\n",
              "  margin-bottom: 0;\n",
              "  padding: 0.5em;\n",
              "  box-sizing: border-box;\n",
              "  text-align: center;\n",
              "  align-items: start;\n",
              "  justify-content: space-between;\n",
              "  gap: 0.5em;\n",
              "}\n",
              "\n",
              "#sk-container-id-1 label.sk-toggleable__label .caption {\n",
              "  font-size: 0.6rem;\n",
              "  font-weight: lighter;\n",
              "  color: var(--sklearn-color-text-muted);\n",
              "}\n",
              "\n",
              "#sk-container-id-1 label.sk-toggleable__label-arrow:before {\n",
              "  /* Arrow on the left of the label */\n",
              "  content: \"▸\";\n",
              "  float: left;\n",
              "  margin-right: 0.25em;\n",
              "  color: var(--sklearn-color-icon);\n",
              "}\n",
              "\n",
              "#sk-container-id-1 label.sk-toggleable__label-arrow:hover:before {\n",
              "  color: var(--sklearn-color-text);\n",
              "}\n",
              "\n",
              "/* Toggleable content - dropdown */\n",
              "\n",
              "#sk-container-id-1 div.sk-toggleable__content {\n",
              "  max-height: 0;\n",
              "  max-width: 0;\n",
              "  overflow: hidden;\n",
              "  text-align: left;\n",
              "  /* unfitted */\n",
              "  background-color: var(--sklearn-color-unfitted-level-0);\n",
              "}\n",
              "\n",
              "#sk-container-id-1 div.sk-toggleable__content.fitted {\n",
              "  /* fitted */\n",
              "  background-color: var(--sklearn-color-fitted-level-0);\n",
              "}\n",
              "\n",
              "#sk-container-id-1 div.sk-toggleable__content pre {\n",
              "  margin: 0.2em;\n",
              "  border-radius: 0.25em;\n",
              "  color: var(--sklearn-color-text);\n",
              "  /* unfitted */\n",
              "  background-color: var(--sklearn-color-unfitted-level-0);\n",
              "}\n",
              "\n",
              "#sk-container-id-1 div.sk-toggleable__content.fitted pre {\n",
              "  /* unfitted */\n",
              "  background-color: var(--sklearn-color-fitted-level-0);\n",
              "}\n",
              "\n",
              "#sk-container-id-1 input.sk-toggleable__control:checked~div.sk-toggleable__content {\n",
              "  /* Expand drop-down */\n",
              "  max-height: 200px;\n",
              "  max-width: 100%;\n",
              "  overflow: auto;\n",
              "}\n",
              "\n",
              "#sk-container-id-1 input.sk-toggleable__control:checked~label.sk-toggleable__label-arrow:before {\n",
              "  content: \"▾\";\n",
              "}\n",
              "\n",
              "/* Pipeline/ColumnTransformer-specific style */\n",
              "\n",
              "#sk-container-id-1 div.sk-label input.sk-toggleable__control:checked~label.sk-toggleable__label {\n",
              "  color: var(--sklearn-color-text);\n",
              "  background-color: var(--sklearn-color-unfitted-level-2);\n",
              "}\n",
              "\n",
              "#sk-container-id-1 div.sk-label.fitted input.sk-toggleable__control:checked~label.sk-toggleable__label {\n",
              "  background-color: var(--sklearn-color-fitted-level-2);\n",
              "}\n",
              "\n",
              "/* Estimator-specific style */\n",
              "\n",
              "/* Colorize estimator box */\n",
              "#sk-container-id-1 div.sk-estimator input.sk-toggleable__control:checked~label.sk-toggleable__label {\n",
              "  /* unfitted */\n",
              "  background-color: var(--sklearn-color-unfitted-level-2);\n",
              "}\n",
              "\n",
              "#sk-container-id-1 div.sk-estimator.fitted input.sk-toggleable__control:checked~label.sk-toggleable__label {\n",
              "  /* fitted */\n",
              "  background-color: var(--sklearn-color-fitted-level-2);\n",
              "}\n",
              "\n",
              "#sk-container-id-1 div.sk-label label.sk-toggleable__label,\n",
              "#sk-container-id-1 div.sk-label label {\n",
              "  /* The background is the default theme color */\n",
              "  color: var(--sklearn-color-text-on-default-background);\n",
              "}\n",
              "\n",
              "/* On hover, darken the color of the background */\n",
              "#sk-container-id-1 div.sk-label:hover label.sk-toggleable__label {\n",
              "  color: var(--sklearn-color-text);\n",
              "  background-color: var(--sklearn-color-unfitted-level-2);\n",
              "}\n",
              "\n",
              "/* Label box, darken color on hover, fitted */\n",
              "#sk-container-id-1 div.sk-label.fitted:hover label.sk-toggleable__label.fitted {\n",
              "  color: var(--sklearn-color-text);\n",
              "  background-color: var(--sklearn-color-fitted-level-2);\n",
              "}\n",
              "\n",
              "/* Estimator label */\n",
              "\n",
              "#sk-container-id-1 div.sk-label label {\n",
              "  font-family: monospace;\n",
              "  font-weight: bold;\n",
              "  display: inline-block;\n",
              "  line-height: 1.2em;\n",
              "}\n",
              "\n",
              "#sk-container-id-1 div.sk-label-container {\n",
              "  text-align: center;\n",
              "}\n",
              "\n",
              "/* Estimator-specific */\n",
              "#sk-container-id-1 div.sk-estimator {\n",
              "  font-family: monospace;\n",
              "  border: 1px dotted var(--sklearn-color-border-box);\n",
              "  border-radius: 0.25em;\n",
              "  box-sizing: border-box;\n",
              "  margin-bottom: 0.5em;\n",
              "  /* unfitted */\n",
              "  background-color: var(--sklearn-color-unfitted-level-0);\n",
              "}\n",
              "\n",
              "#sk-container-id-1 div.sk-estimator.fitted {\n",
              "  /* fitted */\n",
              "  background-color: var(--sklearn-color-fitted-level-0);\n",
              "}\n",
              "\n",
              "/* on hover */\n",
              "#sk-container-id-1 div.sk-estimator:hover {\n",
              "  /* unfitted */\n",
              "  background-color: var(--sklearn-color-unfitted-level-2);\n",
              "}\n",
              "\n",
              "#sk-container-id-1 div.sk-estimator.fitted:hover {\n",
              "  /* fitted */\n",
              "  background-color: var(--sklearn-color-fitted-level-2);\n",
              "}\n",
              "\n",
              "/* Specification for estimator info (e.g. \"i\" and \"?\") */\n",
              "\n",
              "/* Common style for \"i\" and \"?\" */\n",
              "\n",
              ".sk-estimator-doc-link,\n",
              "a:link.sk-estimator-doc-link,\n",
              "a:visited.sk-estimator-doc-link {\n",
              "  float: right;\n",
              "  font-size: smaller;\n",
              "  line-height: 1em;\n",
              "  font-family: monospace;\n",
              "  background-color: var(--sklearn-color-background);\n",
              "  border-radius: 1em;\n",
              "  height: 1em;\n",
              "  width: 1em;\n",
              "  text-decoration: none !important;\n",
              "  margin-left: 0.5em;\n",
              "  text-align: center;\n",
              "  /* unfitted */\n",
              "  border: var(--sklearn-color-unfitted-level-1) 1pt solid;\n",
              "  color: var(--sklearn-color-unfitted-level-1);\n",
              "}\n",
              "\n",
              ".sk-estimator-doc-link.fitted,\n",
              "a:link.sk-estimator-doc-link.fitted,\n",
              "a:visited.sk-estimator-doc-link.fitted {\n",
              "  /* fitted */\n",
              "  border: var(--sklearn-color-fitted-level-1) 1pt solid;\n",
              "  color: var(--sklearn-color-fitted-level-1);\n",
              "}\n",
              "\n",
              "/* On hover */\n",
              "div.sk-estimator:hover .sk-estimator-doc-link:hover,\n",
              ".sk-estimator-doc-link:hover,\n",
              "div.sk-label-container:hover .sk-estimator-doc-link:hover,\n",
              ".sk-estimator-doc-link:hover {\n",
              "  /* unfitted */\n",
              "  background-color: var(--sklearn-color-unfitted-level-3);\n",
              "  color: var(--sklearn-color-background);\n",
              "  text-decoration: none;\n",
              "}\n",
              "\n",
              "div.sk-estimator.fitted:hover .sk-estimator-doc-link.fitted:hover,\n",
              ".sk-estimator-doc-link.fitted:hover,\n",
              "div.sk-label-container:hover .sk-estimator-doc-link.fitted:hover,\n",
              ".sk-estimator-doc-link.fitted:hover {\n",
              "  /* fitted */\n",
              "  background-color: var(--sklearn-color-fitted-level-3);\n",
              "  color: var(--sklearn-color-background);\n",
              "  text-decoration: none;\n",
              "}\n",
              "\n",
              "/* Span, style for the box shown on hovering the info icon */\n",
              ".sk-estimator-doc-link span {\n",
              "  display: none;\n",
              "  z-index: 9999;\n",
              "  position: relative;\n",
              "  font-weight: normal;\n",
              "  right: .2ex;\n",
              "  padding: .5ex;\n",
              "  margin: .5ex;\n",
              "  width: min-content;\n",
              "  min-width: 20ex;\n",
              "  max-width: 50ex;\n",
              "  color: var(--sklearn-color-text);\n",
              "  box-shadow: 2pt 2pt 4pt #999;\n",
              "  /* unfitted */\n",
              "  background: var(--sklearn-color-unfitted-level-0);\n",
              "  border: .5pt solid var(--sklearn-color-unfitted-level-3);\n",
              "}\n",
              "\n",
              ".sk-estimator-doc-link.fitted span {\n",
              "  /* fitted */\n",
              "  background: var(--sklearn-color-fitted-level-0);\n",
              "  border: var(--sklearn-color-fitted-level-3);\n",
              "}\n",
              "\n",
              ".sk-estimator-doc-link:hover span {\n",
              "  display: block;\n",
              "}\n",
              "\n",
              "/* \"?\"-specific style due to the `<a>` HTML tag */\n",
              "\n",
              "#sk-container-id-1 a.estimator_doc_link {\n",
              "  float: right;\n",
              "  font-size: 1rem;\n",
              "  line-height: 1em;\n",
              "  font-family: monospace;\n",
              "  background-color: var(--sklearn-color-background);\n",
              "  border-radius: 1rem;\n",
              "  height: 1rem;\n",
              "  width: 1rem;\n",
              "  text-decoration: none;\n",
              "  /* unfitted */\n",
              "  color: var(--sklearn-color-unfitted-level-1);\n",
              "  border: var(--sklearn-color-unfitted-level-1) 1pt solid;\n",
              "}\n",
              "\n",
              "#sk-container-id-1 a.estimator_doc_link.fitted {\n",
              "  /* fitted */\n",
              "  border: var(--sklearn-color-fitted-level-1) 1pt solid;\n",
              "  color: var(--sklearn-color-fitted-level-1);\n",
              "}\n",
              "\n",
              "/* On hover */\n",
              "#sk-container-id-1 a.estimator_doc_link:hover {\n",
              "  /* unfitted */\n",
              "  background-color: var(--sklearn-color-unfitted-level-3);\n",
              "  color: var(--sklearn-color-background);\n",
              "  text-decoration: none;\n",
              "}\n",
              "\n",
              "#sk-container-id-1 a.estimator_doc_link.fitted:hover {\n",
              "  /* fitted */\n",
              "  background-color: var(--sklearn-color-fitted-level-3);\n",
              "}\n",
              "</style><div id=\"sk-container-id-1\" class=\"sk-top-container\"><div class=\"sk-text-repr-fallback\"><pre>XGBRegressor(base_score=None, booster=None, callbacks=None,\n",
              "             colsample_bylevel=None, colsample_bynode=None, colsample_bytree=1,\n",
              "             device=None, early_stopping_rounds=None, enable_categorical=False,\n",
              "             eval_metric=None, feature_types=None, gamma=None, grow_policy=None,\n",
              "             importance_type=None, interaction_constraints=None,\n",
              "             learning_rate=0.05, max_bin=None, max_cat_threshold=None,\n",
              "             max_cat_to_onehot=None, max_delta_step=None, max_depth=3,\n",
              "             max_leaves=None, min_child_weight=None, missing=nan,\n",
              "             monotone_constraints=None, multi_strategy=None, n_estimators=200,\n",
              "             n_jobs=None, num_parallel_tree=None, random_state=42, ...)</pre><b>In a Jupyter environment, please rerun this cell to show the HTML representation or trust the notebook. <br />On GitHub, the HTML representation is unable to render, please try loading this page with nbviewer.org.</b></div><div class=\"sk-container\" hidden><div class=\"sk-item\"><div class=\"sk-estimator fitted sk-toggleable\"><input class=\"sk-toggleable__control sk-hidden--visually\" id=\"sk-estimator-id-1\" type=\"checkbox\" checked><label for=\"sk-estimator-id-1\" class=\"sk-toggleable__label fitted sk-toggleable__label-arrow\"><div><div>XGBRegressor</div></div><div><span class=\"sk-estimator-doc-link fitted\">i<span>Fitted</span></span></div></label><div class=\"sk-toggleable__content fitted\"><pre>XGBRegressor(base_score=None, booster=None, callbacks=None,\n",
              "             colsample_bylevel=None, colsample_bynode=None, colsample_bytree=1,\n",
              "             device=None, early_stopping_rounds=None, enable_categorical=False,\n",
              "             eval_metric=None, feature_types=None, gamma=None, grow_policy=None,\n",
              "             importance_type=None, interaction_constraints=None,\n",
              "             learning_rate=0.05, max_bin=None, max_cat_threshold=None,\n",
              "             max_cat_to_onehot=None, max_delta_step=None, max_depth=3,\n",
              "             max_leaves=None, min_child_weight=None, missing=nan,\n",
              "             monotone_constraints=None, multi_strategy=None, n_estimators=200,\n",
              "             n_jobs=None, num_parallel_tree=None, random_state=42, ...)</pre></div> </div></div></div></div>"
            ]
          },
          "metadata": {},
          "execution_count": 17
        }
      ]
    },
    {
      "cell_type": "markdown",
      "source": [
        "## Plot the predicted on the actual Prices"
      ],
      "metadata": {
        "id": "4XOXU7616ego"
      }
    },
    {
      "cell_type": "code",
      "source": [
        "y_pred = final_model.predict(X_test)\n",
        "\n",
        "plt.figure(figsize=(8, 6))\n",
        "plt.scatter(y_test, y_pred, color='blue', label='Predictions')\n",
        "plt.plot([y.min(), y.max()], [y.min(), y.max()], color='red', lw=2)\n",
        "plt.xlabel('Actual Prices')\n",
        "plt.ylabel('Predicted Prices')\n",
        "plt.title('Actual vs Predicted Prices')\n",
        "plt.legend()\n",
        "plt.show()"
      ],
      "metadata": {
        "colab": {
          "base_uri": "https://localhost:8080/",
          "height": 525
        },
        "id": "6zYOTSQL35Xt",
        "outputId": "47bbe1d0-a75a-4c23-9713-35a4494c03da"
      },
      "execution_count": 18,
      "outputs": [
        {
          "output_type": "display_data",
          "data": {
            "text/plain": [
              "<Figure size 800x600 with 1 Axes>"
            ],
            "image/png": "[encoded data removed]"
          },
          "metadata": {}
        }
      ]
    },
    {
      "cell_type": "markdown",
      "source": [
        "## Plot the Best feature of the best model"
      ],
      "metadata": {
        "id": "it7I8reT6mYR"
      }
    },
    {
      "cell_type": "code",
      "source": [
        "# Extract feature importances\n",
        "importances = final_model.feature_importances_\n",
        "\n",
        "# Get feature names, assuming you have a dataframe with the feature names\n",
        "feature_names = X_final.columns.tolist()\n",
        "\n",
        "# Create a DataFrame with feature names and their corresponding importance\n",
        "feature_importances = pd.DataFrame({\n",
        "    'feature': feature_names,\n",
        "    'importance': importances\n",
        "})\n",
        "\n",
        "# Sort the features by importance\n",
        "feature_importances = feature_importances.sort_values(by='importance', ascending=False)\n",
        "\n",
        "# Take the top 10 features\n",
        "top_10_features = feature_importances.head(10)\n",
        "\n",
        "# Plotting\n",
        "plt.figure(figsize=(10, 6))\n",
        "plt.barh(top_10_features['feature'], top_10_features['importance'], color=plt.cm.viridis(top_10_features['importance'] / max(top_10_features['importance'])))\n",
        "plt.xlabel('Importance %')\n",
        "plt.title('Top 10 Features Importances from XGBoost')\n",
        "plt.gca().invert_yaxis()  # Invert y-axis to have the most important feature at the top\n",
        "plt.show()\n"
      ],
      "metadata": {
        "colab": {
          "base_uri": "https://localhost:8080/",
          "height": 407
        },
        "id": "9Gbfwnnz6uc_",
        "outputId": "bcd28a30-7546-4dc6-d1f8-0e5c3db363e6"
      },
      "execution_count": 19,
      "outputs": [
        {
          "output_type": "display_data",
          "data": {
            "text/plain": [
              "<Figure size 1000x600 with 1 Axes>"
            ],
            "image/png": "[encoded data removed]"
          },
          "metadata": {}
        }
      ]
    },
    {
      "cell_type": "markdown",
      "source": [
        "The top 10 feature importances for XGBoost are as follows: OverallQual(Rates the overall material and finish of the house) has the highest importance at 0.17,69%. Followed by GarageCars at 9,87%."
      ],
      "metadata": {
        "id": "AFBoZt1z7kpo"
      }
    },
    {
      "cell_type": "markdown",
      "source": [
        "## ✅ Model Training & Evaluation\n",
        "\n",
        "I trained several regression models using **GridSearchCV** to optimize hyperparameters and evaluate them using **Test RMSE** (lower = better). Here are the results:\n",
        "\n",
        "### 📊 Test RMSE Comparison\n",
        "\n",
        "| **Model**          | **Test RMSE**  |\n",
        "|--------------------|----------------|\n",
        "| LinearRegression   | 88,385.52      |\n",
        "| Ridge              | 22,707.44      |\n",
        "| Lasso              | 22,558.10      |\n",
        "| DecisionTree       | 40,622.70      |\n",
        "| RandomForest       | 24,466.05      |\n",
        "| GradientBoosting   | 22,153.94      |\n",
        "| SVR                | 38,855.15      |\n",
        "| KNeighbors         | 30,822.74      |\n",
        "| MLPRegressor       | 23,195.52      |\n",
        "| **XGBoost**        | **21,924.02 ✅ 🔥** |\n",
        "\n",
        "---\n",
        "\n",
        "## ✅ Feature Importances Summary\n",
        "\n",
        "Across the tree-based models (including **RandomForest**, **GradientBoosting**, and **XGBoost**), **OverallQual** emerged as the most important feature. Other consistently influential features included **GrLivArea**, **GarageCars**, **TotalBsmtSF**, **BsmtQual_Ex**, **2ndFlrSF**, and **TotRmsAbvGrd**.\n",
        "\n",
        "---\n",
        "\n",
        "## 🏁 Conclusion\n",
        "\n",
        "- **Best model overall:** **XGBoost** (lowest RMSE: 21,924).\n",
        "- **GradientBoosting** and **Lasso** were close behind.\n",
        "- **Linear Regression** performed poorly without regularization.\n",
        "- My preprocessing was effective and consistent across all models.\n",
        "- I explored both classic machine learning algorithms (Linear, Tree, Ensemble) and neural networks (MLPRegressor).\n",
        "\n"
      ],
      "metadata": {
        "id": "ide6IuD8A0lG"
      }
    },
    {
      "cell_type": "markdown",
      "source": [
        "# Result data for Kaggle"
      ],
      "metadata": {
        "id": "Q1bKl_mwBcjc"
      }
    },
    {
      "cell_type": "code",
      "source": [
        "# Load the new dataset (same structure as train.csv but without 'Survived')\n",
        "df_test = pd.read_csv('/content/test.csv')  # Replace with your actual file name"
      ],
      "metadata": {
        "id": "tMi07HseGbCv"
      },
      "execution_count": 46,
      "outputs": []
    },
    {
      "cell_type": "code",
      "source": [
        "df_test.isnull().sum()[df.isnull().sum() > 0]"
      ],
      "metadata": {
        "colab": {
          "base_uri": "https://localhost:8080/",
          "height": 84
        },
        "outputId": "04794b4f-48c3-4550-bf83-b515525288a3",
        "id": "mSAfs64iB-66"
      },
      "execution_count": 47,
      "outputs": [
        {
          "output_type": "execute_result",
          "data": {
            "text/plain": [
              "Series([], dtype: int64)"
            ],
            "text/html": [
              "<div>\n",
              "<style scoped>\n",
              "    .dataframe tbody tr th:only-of-type {\n",
              "        vertical-align: middle;\n",
              "    }\n",
              "\n",
              "    .dataframe tbody tr th {\n",
              "        vertical-align: top;\n",
              "    }\n",
              "\n",
              "    .dataframe thead th {\n",
              "        text-align: right;\n",
              "    }\n",
              "</style>\n",
              "<table border=\"1\" class=\"dataframe\">\n",
              "  <thead>\n",
              "    <tr style=\"text-align: right;\">\n",
              "      <th></th>\n",
              "      <th>0</th>\n",
              "    </tr>\n",
              "  </thead>\n",
              "  <tbody>\n",
              "  </tbody>\n",
              "</table>\n",
              "</div><br><label><b>dtype:</b> int64</label>"
            ]
          },
          "metadata": {},
          "execution_count": 47
        }
      ]
    },
    {
      "cell_type": "markdown",
      "source": [
        "## Change all the Na for categorical features for \"No ...\""
      ],
      "metadata": {
        "id": "fH91A3DgB-67"
      }
    },
    {
      "cell_type": "code",
      "source": [
        "df_test[\"MiscFeature\"] = df_test[\"MiscFeature\"].fillna(\"No feature\")\n",
        "df_test[\"Fence\"] = df_test[\"Fence\"].fillna(\"No Fence\")\n",
        "df_test[\"PoolQC\"] = df_test[\"PoolQC\"].fillna(\"No Pool\")\n",
        "df_test[\"GarageCond\"] = df_test[\"GarageCond\"].fillna(\"No Garage\")\n",
        "df_test[\"GarageQual\"] = df_test[\"GarageQual\"].fillna(\"No Garage\")\n",
        "df_test[\"GarageFinish\"] = df_test[\"GarageFinish\"].fillna(\"No Garage\")\n",
        "df_test[\"GarageType\"] = df_test[\"GarageType\"].fillna(\"No Garage\")\n",
        "df_test[\"BsmtFinType2\"] = df_test[\"BsmtFinType2\"].fillna(\"No Basement\")\n",
        "df_test[\"BsmtFinType1\"] = df_test[\"BsmtFinType1\"].fillna(\"No Basement\")\n",
        "df_test[\"BsmtCond\"] = df_test[\"BsmtCond\"].fillna(\"No Basement\")\n",
        "df_test[\"BsmtQual\"] = df_test[\"BsmtQual\"].fillna(\"No Basement\")\n",
        "df_test[\"FireplaceQu\"] = df_test[\"FireplaceQu\"].fillna(\"No Fireplace\")\n",
        "df_test[\"MasVnrType\"] = df_test[\"MasVnrType\"].fillna(\"No Veneer\")\n",
        "df_test[\"Alley\"] = df_test[\"Alley\"].fillna(\"No Alley\")\n",
        "df_test[\"BsmtExposure\"] = df_test[\"BsmtExposure\"].fillna(\"No Basement\")\n"
      ],
      "metadata": {
        "id": "JEkn1m2CB-68"
      },
      "execution_count": 48,
      "outputs": []
    },
    {
      "cell_type": "markdown",
      "source": [
        "## What are still missing:"
      ],
      "metadata": {
        "id": "rZF5BbVBB-68"
      }
    },
    {
      "cell_type": "code",
      "source": [
        "df.isnull().sum()[df.isnull().sum() > 0]"
      ],
      "metadata": {
        "colab": {
          "base_uri": "https://localhost:8080/",
          "height": 84
        },
        "outputId": "4b13d9b1-ce25-4763-d518-354ce318c51b",
        "id": "c4ZvoaC4B-68"
      },
      "execution_count": 49,
      "outputs": [
        {
          "output_type": "execute_result",
          "data": {
            "text/plain": [
              "Series([], dtype: int64)"
            ],
            "text/html": [
              "<div>\n",
              "<style scoped>\n",
              "    .dataframe tbody tr th:only-of-type {\n",
              "        vertical-align: middle;\n",
              "    }\n",
              "\n",
              "    .dataframe tbody tr th {\n",
              "        vertical-align: top;\n",
              "    }\n",
              "\n",
              "    .dataframe thead th {\n",
              "        text-align: right;\n",
              "    }\n",
              "</style>\n",
              "<table border=\"1\" class=\"dataframe\">\n",
              "  <thead>\n",
              "    <tr style=\"text-align: right;\">\n",
              "      <th></th>\n",
              "      <th>0</th>\n",
              "    </tr>\n",
              "  </thead>\n",
              "  <tbody>\n",
              "  </tbody>\n",
              "</table>\n",
              "</div><br><label><b>dtype:</b> int64</label>"
            ]
          },
          "metadata": {},
          "execution_count": 49
        }
      ]
    },
    {
      "cell_type": "code",
      "source": [
        "df[\"MasVnrArea\"] = df[\"MasVnrArea\"].fillna(0)\n",
        "df_test = df_test.dropna(subset=['Electrical']) # Only one row is missing\n",
        "df_test['GarageYrBlt'].fillna(0, inplace=True)\n",
        "# Create a new column: 1 if garage exists, 0 otherwise\n",
        "df_test['HasGarage'] = df_test['GarageYrBlt'].apply(lambda x: 0 if x == 0 else 1)"
      ],
      "metadata": {
        "id": "stW57gwTB-68"
      },
      "execution_count": 50,
      "outputs": []
    },
    {
      "cell_type": "code",
      "source": [
        "df_test['GarageYrBlt'].fillna(0, inplace=True)\n",
        "# Create a new column: 1 if garage exists, 0 otherwise\n",
        "df_test['HasGarage'] = df_test['GarageYrBlt'].apply(lambda x: 0 if x == 0 else 1)\n",
        "\n",
        "#impute missing values using the median per Neighborhood:\n",
        "df_test[\"LotFrontage\"] = df_test.groupby(\"Neighborhood\")[\"LotFrontage\"].transform(\n",
        "    lambda x: x.fillna(x.median())\n",
        ")\n"
      ],
      "metadata": {
        "id": "lk912CarB-69"
      },
      "execution_count": 51,
      "outputs": []
    },
    {
      "cell_type": "code",
      "source": [
        "print(df_test.isnull().sum()[df_test.isnull().sum() > 0])\n",
        "df_test.duplicated().sum()\n",
        "# No missing value anymore and no duplicate"
      ],
      "metadata": {
        "colab": {
          "base_uri": "https://localhost:8080/"
        },
        "outputId": "7d5cb521-4872-4bc1-f5df-f457d4d0c5bf",
        "id": "EWkyn9dQB-69"
      },
      "execution_count": 53,
      "outputs": [
        {
          "output_type": "stream",
          "name": "stdout",
          "text": [
            "MSZoning         4\n",
            "Utilities        2\n",
            "Exterior1st      1\n",
            "Exterior2nd      1\n",
            "MasVnrArea      15\n",
            "BsmtFinSF1       1\n",
            "BsmtFinSF2       1\n",
            "BsmtUnfSF        1\n",
            "TotalBsmtSF      1\n",
            "BsmtFullBath     2\n",
            "BsmtHalfBath     2\n",
            "KitchenQual      1\n",
            "Functional       2\n",
            "GarageCars       1\n",
            "GarageArea       1\n",
            "SaleType         1\n",
            "dtype: int64\n"
          ]
        },
        {
          "output_type": "execute_result",
          "data": {
            "text/plain": [
              "np.int64(0)"
            ]
          },
          "metadata": {},
          "execution_count": 53
        }
      ]
    },
    {
      "cell_type": "markdown",
      "source": [
        "## Preprocessing pipeline"
      ],
      "metadata": {
        "id": "cbiFWA6DB-69"
      }
    },
    {
      "cell_type": "code",
      "source": [
        "X_test = df_test.drop('Id', axis=1)\n",
        "\n",
        "X_test_prepro = preprocessor.transform(X_test)\n",
        "\n",
        "# Create DataFrame with same columns as train\n",
        "X_final_test = pd.DataFrame(X_test_prepro, columns=all_columns)\n",
        "\n",
        "# Reset index to match\n",
        "X_final_test.reset_index(drop=True, inplace=True)\n",
        "\n",
        "print(X_final_test.head())\n"
      ],
      "metadata": {
        "colab": {
          "base_uri": "https://localhost:8080/"
        },
        "id": "vuaQfz6qlR26",
        "outputId": "cbb36e2d-f49d-4f35-b3c2-d6c2acf7a92d"
      },
      "execution_count": 78,
      "outputs": [
        {
          "output_type": "stream",
          "name": "stdout",
          "text": [
            "   MSSubClass  LotFrontage   LotArea  OverallQual  OverallCond  YearBuilt  \\\n",
            "0   -0.871979     0.436981  0.110671    -0.795596     0.381293  -0.339327   \n",
            "1   -0.871979     0.481561  0.375668    -0.072372     0.381293  -0.438700   \n",
            "2    0.073732     0.169503  0.331886    -0.795596    -0.517424   0.853153   \n",
            "3    0.073732     0.347822 -0.054038    -0.072372     0.381293   0.886277   \n",
            "4    1.492297    -1.212464 -0.552272     1.374077    -0.517424   0.687530   \n",
            "\n",
            "   YearRemodAdd  MasVnrArea  BsmtFinSF1  BsmtFinSF2  ...  SaleType_ConLw  \\\n",
            "0     -1.155705   -0.571009    0.052761    0.603905  ...             0.0   \n",
            "1     -1.301073    0.026629    1.050677   -0.288760  ...             0.0   \n",
            "2      0.637169   -0.571009    0.761171   -0.288760  ...             0.0   \n",
            "3      0.637169   -0.460336    0.346652   -0.288760  ...             0.0   \n",
            "4      0.346432   -0.571009   -0.396850   -0.288760  ...             0.0   \n",
            "\n",
            "   SaleType_New  SaleType_Oth  SaleType_WD  SaleCondition_Abnorml  \\\n",
            "0           0.0           0.0          1.0                    0.0   \n",
            "1           0.0           0.0          1.0                    0.0   \n",
            "2           0.0           0.0          1.0                    0.0   \n",
            "3           0.0           0.0          1.0                    0.0   \n",
            "4           0.0           0.0          1.0                    0.0   \n",
            "\n",
            "   SaleCondition_AdjLand  SaleCondition_Alloca  SaleCondition_Family  \\\n",
            "0                    0.0                   0.0                   0.0   \n",
            "1                    0.0                   0.0                   0.0   \n",
            "2                    0.0                   0.0                   0.0   \n",
            "3                    0.0                   0.0                   0.0   \n",
            "4                    0.0                   0.0                   0.0   \n",
            "\n",
            "   SaleCondition_Normal  SaleCondition_Partial  \n",
            "0                   1.0                    0.0  \n",
            "1                   1.0                    0.0  \n",
            "2                   1.0                    0.0  \n",
            "3                   1.0                    0.0  \n",
            "4                   1.0                    0.0  \n",
            "\n",
            "[5 rows x 303 columns]\n"
          ]
        }
      ]
    },
    {
      "cell_type": "markdown",
      "source": [
        "## Create the prediction for the new data"
      ],
      "metadata": {
        "id": "38O8lNEJDSxu"
      }
    },
    {
      "cell_type": "code",
      "source": [
        "final_model = best_models['XGBoost']  # Because it was the best model\n",
        "\n",
        "# Make predictions directly\n",
        "predictions = final_model.predict(X_final_test)\n",
        "\n",
        "# Export submission file\n",
        "submission = pd.DataFrame({\n",
        "    'Id': df_test['Id'],\n",
        "    'SalePrice': predictions\n",
        "})\n",
        "submission.to_csv('/content/submission.csv', index=False)"
      ],
      "metadata": {
        "id": "V9ElYtm-D_TJ"
      },
      "execution_count": 80,
      "outputs": []
    },
    {
      "cell_type": "code",
      "source": [],
      "metadata": {
        "id": "q40LeR5lDbMb"
      },
      "execution_count": null,
      "outputs": []
    }
  ]
}