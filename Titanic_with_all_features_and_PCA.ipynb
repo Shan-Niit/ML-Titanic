{
  "nbformat": 4,
  "nbformat_minor": 0,
  "metadata": {
    "colab": {
      "provenance": []
    },
    "kernelspec": {
      "name": "python3",
      "display_name": "Python 3"
    },
    "language_info": {
      "name": "python"
    }
  },
  "cells": [
    {
      "cell_type": "markdown",
      "source": [
        "# Titanic with all features + PCA"
      ],
      "metadata": {
        "id": "EXPaNA0CusLC"
      }
    },
    {
      "cell_type": "markdown",
      "source": [
        "## Importing the libraries"
      ],
      "metadata": {
        "id": "gUZy-aQIyjGb"
      }
    },
    {
      "cell_type": "code",
      "execution_count": null,
      "metadata": {
        "id": "y-pkRhnNnkzr"
      },
      "outputs": [],
      "source": [
        "import pandas as pd\n",
        "import numpy as np\n",
        "from sklearn.ensemble import RandomForestRegressor\n",
        "from sklearn.preprocessing import StandardScaler, OneHotEncoder\n",
        "from sklearn.compose import ColumnTransformer\n",
        "from sklearn.pipeline import Pipeline\n",
        "from sklearn.impute import SimpleImputer\n",
        "import warnings\n",
        "warnings.filterwarnings('ignore')"
      ]
    },
    {
      "cell_type": "markdown",
      "source": [
        "## Importing the dataset"
      ],
      "metadata": {
        "id": "3gNswZxWypTW"
      }
    },
    {
      "cell_type": "code",
      "source": [
        "# Load Titanic data\n",
        "df = pd.read_csv('/content/train.csv')\n",
        "\n",
        "# Drop rows where 'Embarked' is missing (only 2 rows)\n",
        "df = df.dropna(subset=['Embarked'])\n"
      ],
      "metadata": {
        "id": "5JDGJ1vux_DN"
      },
      "execution_count": null,
      "outputs": []
    },
    {
      "cell_type": "markdown",
      "source": [
        "##Model to predict the missing data for age (+20% of the rows) depending of the other variables"
      ],
      "metadata": {
        "id": "7c-6qa2oyhYO"
      }
    },
    {
      "cell_type": "code",
      "source": [
        "# Features to help predict Age\n",
        "features_for_age = ['Pclass', 'Sex', 'SibSp', 'Parch', 'Fare', 'Embarked']\n",
        "\n",
        "# Create a temporary DataFrame with one-hot encoding\n",
        "df_temp = pd.get_dummies(df[features_for_age + ['Age']], drop_first=True)\n",
        "\n",
        "# Split into known and missing Age\n",
        "df_age_known = df_temp[df_temp['Age'].notnull()]\n",
        "df_age_missing = df_temp[df_temp['Age'].isnull()]\n",
        "\n",
        "# Train the model\n",
        "X_age = df_age_known.drop('Age', axis=1)\n",
        "y_age = df_age_known['Age']\n",
        "\n",
        "rfr = RandomForestRegressor(n_estimators=100, random_state=42)\n",
        "rfr.fit(X_age, y_age)\n",
        "\n",
        "# Predict missing ages\n",
        "X_missing_age = df_age_missing.drop('Age', axis=1)\n",
        "predicted_ages = rfr.predict(X_missing_age)\n",
        "\n",
        "# Fill back into the original DataFrame\n",
        "df.loc[df['Age'].isnull(), 'Age'] = predicted_ages"
      ],
      "metadata": {
        "id": "gl4Ju-W0x-9w",
        "collapsed": true
      },
      "execution_count": null,
      "outputs": []
    },
    {
      "cell_type": "markdown",
      "source": [
        "##New feature \"Title\" with the \"Name\"\n",
        "\n",
        "\n"
      ],
      "metadata": {
        "id": "KjzuIwedkQoL"
      }
    },
    {
      "cell_type": "code",
      "source": [
        "# Extract title\n",
        "df['Title'] = df['Name'].str.extract(' ([A-Za-z]+)\\.', expand=False)\n",
        "\n",
        "# Simplify titles\n",
        "df['Title'] = df['Title'].replace(['Lady', 'Countess', 'Capt', 'Col',\n",
        "                                   'Don', 'Dr', 'Major', 'Rev', 'Sir',\n",
        "                                   'Jonkheer', 'Dona'], 'Rare')\n",
        "\n",
        "df['Title'] = df['Title'].replace({'Mlle': 'Miss', 'Ms': 'Miss', 'Mme': 'Mrs'})\n",
        "\n",
        "# print(df['Title'].value_counts())\n"
      ],
      "metadata": {
        "id": "04t4Nnlcj0gD"
      },
      "execution_count": null,
      "outputs": []
    },
    {
      "cell_type": "markdown",
      "source": [
        "##New feature \"FamilySize\" and \"IsAlone\"\n"
      ],
      "metadata": {
        "id": "fFDF-HAIk9fc"
      }
    },
    {
      "cell_type": "code",
      "source": [
        "# Create FamilySize\n",
        "df['FamilySize'] = df['SibSp'] + df['Parch'] + 1\n",
        "\n",
        "# Create IsAlone\n",
        "df['IsAlone'] = 0\n",
        "df.loc[df['FamilySize'] == 1, 'IsAlone'] = 1\n",
        "\n",
        "# print(df[['SibSp', 'Parch', 'FamilySize', 'IsAlone']].head())\n"
      ],
      "metadata": {
        "id": "zY8bOhSAkGoW"
      },
      "execution_count": null,
      "outputs": []
    },
    {
      "cell_type": "markdown",
      "source": [
        "## New features: \"FareBin\" and \"AgeBin\""
      ],
      "metadata": {
        "id": "ell6LMiOnbpg"
      }
    },
    {
      "cell_type": "code",
      "source": [
        "# AgeBand: split into 5 roughly equal-sized bins\n",
        "df['AgeBand'] = pd.cut(df['Age'], 5)\n",
        "\n",
        "# Create AgeBin (numeric version for modeling)\n",
        "df['AgeBin'] = pd.cut(df['Age'], 5, labels=[0, 1, 2, 3, 4]).astype(int)\n",
        "\n",
        "# FareBand: split into 4 quantile-based bins\n",
        "df['FareBand'] = pd.qcut(df['Fare'], 4)\n",
        "\n",
        "# Create FareBin (numeric version for modeling)\n",
        "df['FareBin'] = pd.qcut(df['Fare'], 4, labels=[0, 1, 2, 3]).astype(int)\n",
        "\n",
        "# print(df[['Age', 'AgeBand', 'AgeBin', 'Fare', 'FareBand', 'FareBin']].head())\n"
      ],
      "metadata": {
        "id": "X4LUbMHDnbAr"
      },
      "execution_count": null,
      "outputs": []
    },
    {
      "cell_type": "markdown",
      "source": [
        "## Preprocessing pipeline"
      ],
      "metadata": {
        "id": "iB3tjaRdzFvR"
      }
    },
    {
      "cell_type": "code",
      "source": [
        "# Define features and target\n",
        "X = df[['Pclass', 'Sex', 'SibSp', 'Parch', 'Embarked', 'Title', \"IsAlone\", \"FamilySize\", \"FareBin\", \"AgeBin\", \"Age\", \"Fare\"]] #\"Cabin\" has too many NA values to be used\n",
        "y = df['Survived']\n",
        "\n",
        "# Column groups\n",
        "numeric_features = ['SibSp', 'Parch', \"FamilySize\", \"Age\", \"Fare\"]\n",
        "categorical_features = ['Pclass', 'Sex', 'Embarked', 'Title', \"IsAlone\", \"FareBin\", \"AgeBin\" ]\n",
        "\n",
        "# Pipelines\n",
        "numeric_pipeline = Pipeline([\n",
        "    ('scaler', StandardScaler())\n",
        "])\n",
        "\n",
        "categorical_pipeline = Pipeline([\n",
        "    ('encoder', OneHotEncoder(handle_unknown='ignore'))\n",
        "])\n",
        "\n",
        "# Combine pipelines\n",
        "preprocessor = ColumnTransformer([\n",
        "    ('num', numeric_pipeline, numeric_features),\n",
        "    ('cat', categorical_pipeline, categorical_features)\n",
        "])\n",
        "\n",
        "# Apply transformations\n",
        "preprocessor.fit(X)\n",
        "\n",
        "# Get column names\n",
        "num_cols = numeric_features\n",
        "cat_cols = preprocessor.named_transformers_['cat']['encoder'].get_feature_names_out(categorical_features)\n",
        "all_columns = list(num_cols) + list(cat_cols)\n",
        "\n",
        "# Wrap in DataFrame\n",
        "X_final = pd.DataFrame(X_prepro, columns=all_columns)\n",
        "\n",
        "# Optional: display the result\n",
        "print(X_final.head())"
      ],
      "metadata": {
        "colab": {
          "base_uri": "https://localhost:8080/"
        },
        "id": "mvLYx6yxx-6Y",
        "outputId": "ae33ae3d-6471-4a56-d363-0d4989ec185d"
      },
      "execution_count": null,
      "outputs": [
        {
          "output_type": "stream",
          "name": "stdout",
          "text": [
            "      SibSp     Parch  FamilySize       Age      Fare  Pclass_1  Pclass_2  \\\n",
            "0  0.431350 -0.474326    0.057853 -0.545560 -0.500240       0.0       0.0   \n",
            "1  0.431350 -0.474326    0.057853  0.619174  0.788947       1.0       0.0   \n",
            "2 -0.475199 -0.474326   -0.561804 -0.254377 -0.486650       0.0       0.0   \n",
            "3  0.431350 -0.474326    0.057853  0.400786  0.422861       1.0       0.0   \n",
            "4 -0.475199 -0.474326   -0.561804  0.400786 -0.484133       0.0       0.0   \n",
            "\n",
            "   Pclass_3  Sex_female  Sex_male  ...  IsAlone_1  FareBin_0  FareBin_1  \\\n",
            "0       1.0         0.0       1.0  ...        0.0        1.0        0.0   \n",
            "1       0.0         1.0       0.0  ...        0.0        0.0        0.0   \n",
            "2       1.0         1.0       0.0  ...        1.0        0.0        1.0   \n",
            "3       0.0         1.0       0.0  ...        0.0        0.0        0.0   \n",
            "4       1.0         0.0       1.0  ...        1.0        0.0        1.0   \n",
            "\n",
            "   FareBin_2  FareBin_3  AgeBin_0  AgeBin_1  AgeBin_2  AgeBin_3  AgeBin_4  \n",
            "0        0.0        0.0       0.0       1.0       0.0       0.0       0.0  \n",
            "1        0.0        1.0       0.0       0.0       1.0       0.0       0.0  \n",
            "2        0.0        0.0       0.0       1.0       0.0       0.0       0.0  \n",
            "3        0.0        1.0       0.0       0.0       1.0       0.0       0.0  \n",
            "4        0.0        0.0       0.0       0.0       1.0       0.0       0.0  \n",
            "\n",
            "[5 rows x 29 columns]\n"
          ]
        }
      ]
    },
    {
      "cell_type": "markdown",
      "source": [
        "##Import the models"
      ],
      "metadata": {
        "id": "HnWCyQ8xd5fy"
      }
    },
    {
      "cell_type": "code",
      "source": [
        "from sklearn.ensemble import GradientBoostingClassifier\n",
        "from sklearn.ensemble import ExtraTreesClassifier\n",
        "from sklearn.ensemble import VotingClassifier\n",
        "from sklearn.ensemble import RandomForestClassifier\n",
        "from sklearn.tree import DecisionTreeClassifier\n",
        "from sklearn.svm import SVC\n",
        "from sklearn.neighbors import KNeighborsClassifier\n",
        "from sklearn.neural_network import MLPClassifier\n",
        "from xgboost import XGBClassifier"
      ],
      "metadata": {
        "id": "pGv-KZ67d5FH"
      },
      "execution_count": null,
      "outputs": []
    },
    {
      "cell_type": "markdown",
      "source": [
        "##Define models and their hyperparameters"
      ],
      "metadata": {
        "id": "vR2Hr1myeBuX"
      }
    },
    {
      "cell_type": "code",
      "source": [
        "model_params = {\n",
        "    'SVC': {\n",
        "        'model': SVC(probability=True, random_state=42),\n",
        "        'params': {\n",
        "            'model__C': [0.1, 1, 10],\n",
        "            'model__kernel': ['linear', 'rbf']\n",
        "        }\n",
        "    },\n",
        "    'RandomForest': {\n",
        "        'model': RandomForestClassifier(random_state=42),\n",
        "        'params': {\n",
        "            'model__n_estimators': [100, 200],\n",
        "            'model__max_depth': [None, 5, 10]\n",
        "        }\n",
        "    },\n",
        "    'XGBoost': {\n",
        "        'model': XGBClassifier(use_label_encoder=False, eval_metric='logloss', random_state=42),\n",
        "        'params': {\n",
        "            'model__n_estimators': [100, 200],\n",
        "            'model__max_depth': [3, 5],\n",
        "            'model__learning_rate': [0.05, 0.1]\n",
        "        }\n",
        "    },\n",
        "    'MLP': {\n",
        "        'model': MLPClassifier(max_iter=500, random_state=42),\n",
        "        'params': {\n",
        "            'model__hidden_layer_sizes': [(100,), (50, 50)],\n",
        "            'model__alpha': [0.0001, 0.001]\n",
        "        }\n",
        "    },\n",
        "    'KNN': {\n",
        "        'model': KNeighborsClassifier(),\n",
        "        'params': {\n",
        "            'model__n_neighbors': [3, 5, 7],\n",
        "            'model__weights': ['uniform', 'distance']\n",
        "        }\n",
        "    },\n",
        "    'DecisionTree': {\n",
        "        'model': DecisionTreeClassifier(random_state=42),\n",
        "        'params': {\n",
        "            'model__max_depth': [None, 5, 10],\n",
        "            'model__criterion': ['gini', 'entropy']\n",
        "        }\n",
        "    },\n",
        "    'ExtraTrees': {\n",
        "        'model': ExtraTreesClassifier(random_state=42),\n",
        "        'params': {\n",
        "            'model__n_estimators': [100, 200],\n",
        "            'model__max_depth': [None, 5, 10]\n",
        "        }\n",
        "    },\n",
        "    'GradientBoosting': {\n",
        "        'model': GradientBoostingClassifier(random_state=42),\n",
        "        'params': {\n",
        "            'model__n_estimators': [100, 200],\n",
        "            'model__learning_rate': [0.05, 0.1],\n",
        "            'model__max_depth': [3, 5]\n",
        "        }\n",
        "    },\n",
        "    'Voting': {\n",
        "        'model': VotingClassifier(\n",
        "            estimators=[\n",
        "                ('svc', SVC(probability=True, random_state=42)),\n",
        "                ('rf', RandomForestClassifier(random_state=42)),\n",
        "                ('xgb', XGBClassifier(use_label_encoder=False, eval_metric='logloss', random_state=42)),\n",
        "                ('mlp', MLPClassifier(max_iter=500, random_state=42))\n",
        "            ],\n",
        "            voting='soft'\n",
        "        ),\n",
        "        'params': {}  # No hyperparameters to tune here directly\n",
        "    }\n",
        "}"
      ],
      "metadata": {
        "collapsed": true,
        "id": "JLUrXiaovYCz"
      },
      "execution_count": null,
      "outputs": []
    },
    {
      "cell_type": "markdown",
      "source": [
        "##Spliting the data"
      ],
      "metadata": {
        "id": "zD8vIMIu17aZ"
      }
    },
    {
      "cell_type": "code",
      "source": [
        "from sklearn.model_selection import train_test_split\n",
        "\n",
        "X_train, X_test, y_train, y_test = train_test_split(X, y, test_size=0.2, random_state=42)\n"
      ],
      "metadata": {
        "id": "qGN3p1zd16YM"
      },
      "execution_count": null,
      "outputs": []
    },
    {
      "cell_type": "markdown",
      "source": [
        "## Loop on all the models to find the best parameters with a cross validation and PCA"
      ],
      "metadata": {
        "id": "uI1K6DThe3Z8"
      }
    },
    {
      "cell_type": "code",
      "source": [
        "from sklearn.model_selection import cross_val_score\n",
        "from sklearn.model_selection import GridSearchCV\n",
        "from sklearn.decomposition import PCA\n",
        "\n",
        "best_models = {}\n",
        "\n",
        "# New pipeline: preprocessing ➜ PCA ➜ model\n",
        "for name, mp in model_params.items():\n",
        "    pipe = Pipeline([\n",
        "        ('preprocessing', preprocessor),        # Scaling + OneHotEncoding\n",
        "        ('pca', PCA(n_components=0.95)),        # Keep 95% of variance\n",
        "        ('model', mp['model'])                  # The actual classifier\n",
        "    ])\n",
        "\n",
        "    clf = GridSearchCV(pipe, mp['params'], cv=5, n_jobs=-1, scoring='accuracy')\n",
        "    clf.fit(X_train, y_train)  # X is still your original DataFrame with column names\n",
        "\n",
        "    print(f\"Best parameters for {name}: {clf.best_params_}\")\n",
        "    print(f\"Validation Accuracy for {name}: {clf.best_score_:.4f}\")\n",
        "\n",
        "    best_models[name] = clf.best_estimator_\n",
        "\n",
        "pca = model.named_steps['pca']\n",
        "print(f\"{name} - PCA n_components: {pca.n_components_}\")\n"
      ],
      "metadata": {
        "id": "RFMj_Ce8n3AX",
        "colab": {
          "base_uri": "https://localhost:8080/"
        },
        "outputId": "3551a5a6-824f-4198-9534-7e80691a112f"
      },
      "execution_count": null,
      "outputs": [
        {
          "output_type": "stream",
          "name": "stdout",
          "text": [
            "Best parameters for SVC: {'model__C': 10, 'model__kernel': 'rbf'}\n",
            "Validation Accuracy for SVC: 0.8396\n",
            "Best parameters for RandomForest: {'model__max_depth': 10, 'model__n_estimators': 200}\n",
            "Validation Accuracy for RandomForest: 0.8200\n",
            "Best parameters for XGBoost: {'model__learning_rate': 0.1, 'model__max_depth': 3, 'model__n_estimators': 100}\n",
            "Validation Accuracy for XGBoost: 0.8255\n",
            "Best parameters for MLP: {'model__alpha': 0.0001, 'model__hidden_layer_sizes': (100,)}\n",
            "Validation Accuracy for MLP: 0.8369\n",
            "Best parameters for KNN: {'model__n_neighbors': 7, 'model__weights': 'uniform'}\n",
            "Validation Accuracy for KNN: 0.8228\n",
            "Best parameters for DecisionTree: {'model__criterion': 'gini', 'model__max_depth': 5}\n",
            "Validation Accuracy for DecisionTree: 0.8101\n",
            "Best parameters for ExtraTrees: {'model__max_depth': 10, 'model__n_estimators': 100}\n",
            "Validation Accuracy for ExtraTrees: 0.8228\n",
            "Best parameters for GradientBoosting: {'model__learning_rate': 0.05, 'model__max_depth': 5, 'model__n_estimators': 100}\n",
            "Validation Accuracy for GradientBoosting: 0.8228\n",
            "Best parameters for Voting: {}\n",
            "Validation Accuracy for Voting: 0.8340\n",
            "Voting - PCA n_components: 13\n"
          ]
        }
      ]
    },
    {
      "cell_type": "markdown",
      "source": [
        "## Display accuracy with the best parameters for each model"
      ],
      "metadata": {
        "id": "NIYwQkV4fU5Y"
      }
    },
    {
      "cell_type": "code",
      "source": [
        "from sklearn.metrics import accuracy_score\n",
        "\n",
        "# Optionally test on hold-out set\n",
        "for name, model in best_models.items():\n",
        "    y_pred = model.predict(X_test)\n",
        "    acc = accuracy_score(y_test, y_pred)\n",
        "    print(f\"Test accuracy for {name}: {acc:.4f}\")"
      ],
      "metadata": {
        "id": "1zdp56STfBfb",
        "colab": {
          "base_uri": "https://localhost:8080/"
        },
        "outputId": "2e69c7de-41e7-4ee2-aab1-5ebff30a97b8"
      },
      "execution_count": null,
      "outputs": [
        {
          "output_type": "stream",
          "name": "stdout",
          "text": [
            "Test accuracy for SVC: 0.7921\n",
            "Test accuracy for RandomForest: 0.7697\n",
            "Test accuracy for XGBoost: 0.7753\n",
            "Test accuracy for MLP: 0.8146\n",
            "Test accuracy for KNN: 0.7921\n",
            "Test accuracy for DecisionTree: 0.7978\n",
            "Test accuracy for ExtraTrees: 0.7697\n",
            "Test accuracy for GradientBoosting: 0.7640\n",
            "Test accuracy for Voting: 0.7978\n"
          ]
        }
      ]
    },
    {
      "cell_type": "markdown",
      "source": [
        "# 🧠 Titanic Classification – Feature Selection & PCA Analysis\n",
        "\n",
        "---\n",
        "\n",
        "## ✅ 1. Feature Evaluation Summary\n",
        "\n",
        "The features `FareBin` and `AgeBin` are derived from `Fare` and `Age`, so they are naturally correlated.  \n",
        "To evaluate their impact, I tested three feature configurations:\n",
        "\n",
        "- 🔹 **Version 1 – Baseline**: Without `Fare`, `Age`, `FareBin`, and `AgeBin`\n",
        "- 🔹 **Version 2 – Binned Only**: All features included **except** `Fare` and `Age`\n",
        "- 🔹 **Version 3 – All Features**: Including both original and binned versions of `Fare` and `Age`\n",
        "\n",
        "---\n",
        "\n",
        "## 📊 2. Accuracy Comparison (No PCA)\n",
        "\n",
        "### 🔹 Version 1 – No Fare / Age / Binned\n",
        "\n",
        "| Model              | Test Accuracy |\n",
        "|-------------------|----------------|\n",
        "| SVC               | 0.7921         |\n",
        "| RandomForest      | 0.7978         |\n",
        "| XGBoost           | 0.7921         |\n",
        "| MLP               | 0.8034         |\n",
        "| KNN               | 0.7640         |\n",
        "| DecisionTree      | 0.7865         |\n",
        "| ExtraTrees        | 0.7978         |\n",
        "| GradientBoosting  | 0.7978         |\n",
        "| **VotingClassifier** | **0.8202**     |\n",
        "\n",
        "---\n",
        "\n",
        "### 🔹 Version 2 – Binned Only (No Fare / Age)\n",
        "\n",
        "- ✅ Best Accuracy: **XGBoost – 0.7921**\n",
        "\n",
        "---\n",
        "\n",
        "### 🔹 Version 3 – All Features (Original + Binned)\n",
        "\n",
        "| Model              | Test Accuracy |\n",
        "|-------------------|----------------|\n",
        "| SVC               | 0.7865         |\n",
        "| RandomForest      | 0.7697         |\n",
        "| XGBoost           | 0.8034         |\n",
        "| MLP               | 0.7753         |\n",
        "| KNN               | 0.7978         |\n",
        "| DecisionTree      | **0.8202**     |\n",
        "| ExtraTrees        | 0.8034         |\n",
        "| GradientBoosting  | **0.8202**     |\n",
        "| VotingClassifier  | 0.8146         |\n",
        "\n",
        "---\n",
        "\n",
        "## ✅ 3. Final Feature Selection Decision\n",
        "\n",
        "- 🔹 Best result **without Fare/Age/Binned**: `VotingClassifier – 0.8202`\n",
        "- 🔹 Best result **with binned only**: `XGBoost – 0.7921`\n",
        "- 🔹 Best result **with all features**: `GradientBoosting / DecisionTree – 0.8202`\n",
        "\n",
        "➡️ **Decision**: Use **all features** (original + binned) for optimal performance and model flexibility.\n",
        "\n",
        "---\n",
        "\n",
        "## 🧪 4. PCA – Dimensionality Reduction\n",
        "\n",
        "Test accuracy results after applying PCA:\n",
        "\n",
        "| Model              | Test Accuracy |\n",
        "|-------------------|----------------|\n",
        "| SVC               | 0.7921         |\n",
        "| RandomForest      | 0.7697         |\n",
        "| XGBoost           | 0.7753         |\n",
        "| MLP               | **0.8146**     |\n",
        "| KNN               | 0.7921         |\n",
        "| DecisionTree      | 0.7978         |\n",
        "| ExtraTrees        | 0.7697         |\n",
        "| GradientBoosting  | 0.7640         |\n",
        "| VotingClassifier  | 0.7978         |\n",
        "\n",
        "➡️ PCA yielded slightly lower accuracy in most models, except MLP which performed well (0.8146).\n",
        "\n",
        "---\n",
        "\n",
        "## 📌 5. Next Steps\n",
        "\n",
        "- 📈 Visualize **feature importances** from the best baseline model\n",
        "- 🎯 Plot **PCA components** (2D projection)\n",
        "- 📊 Compare model performances visually (Titanic with new features)\n",
        "\n",
        "---\n",
        "\n"
      ],
      "metadata": {
        "id": "9-TZTscktqZC"
      }
    },
    {
      "cell_type": "markdown",
      "source": [
        "## PLot the best features with PCA"
      ],
      "metadata": {
        "id": "gznaZgrYCJDQ"
      }
    },
    {
      "cell_type": "code",
      "source": [
        "import matplotlib.pyplot as plt\n",
        "\n",
        "# Pick any fitted model using PCA (they all share the same PCA preprocessing)\n",
        "fitted_pipeline = best_models['MLP']\n",
        "\n",
        "# Extract fitted PCA step\n",
        "pca = fitted_pipeline.named_steps['pca']\n",
        "\n",
        "# Extract feature names from preprocessor\n",
        "# Assumes you're using ColumnTransformer with OneHotEncoder and StandardScaler\n",
        "num_features = preprocessor.transformers_[0][2]\n",
        "cat_features = preprocessor.transformers_[1][1].get_feature_names_out(preprocessor.transformers_[1][2])\n",
        "all_features = np.concatenate([num_features, cat_features])\n",
        "\n",
        "# Build a DataFrame with PCA components (loadings)\n",
        "pca_components = pd.DataFrame(pca.components_, columns=all_features, index=[f'PC{i+1}' for i in range(pca.n_components_)])\n",
        "\n",
        "# Sort and display top contributors to PC1\n",
        "top_pc1 = pca_components.loc['PC1'].abs().sort_values(ascending=False).head(10)\n",
        "top_pc2 = pca_components.loc['PC2'].abs().sort_values(ascending=False).head(10)\n",
        "\n",
        "print(\"🔍 Top contributing features to PC1:\")\n",
        "print(top_pc1)\n",
        "\n",
        "print(\"\\n🔍 Top contributing features to PC2:\")\n",
        "print(top_pc2)\n",
        "\n",
        "# 📊 Barplot for PC1\n",
        "plt.figure(figsize=(10, 4))\n",
        "top_pc1.plot(kind='bar')\n",
        "plt.title('Top 10 Feature Contributions to PC1')\n",
        "plt.ylabel('Absolute Loading')\n",
        "plt.grid(True)\n",
        "plt.tight_layout()\n",
        "plt.show()\n",
        "\n",
        "# 📊 Barplot for PC2\n",
        "plt.figure(figsize=(10, 4))\n",
        "top_pc2.plot(kind='bar', color='orange')\n",
        "plt.title('Top 10 Feature Contributions to PC2')\n",
        "plt.ylabel('Absolute Loading')\n",
        "plt.grid(True)\n",
        "plt.tight_layout()\n",
        "plt.show()\n"
      ],
      "metadata": {
        "id": "TpCfjZly-xIi",
        "outputId": "288e7243-e0af-483a-acf7-50683a2ce593",
        "colab": {
          "base_uri": "https://localhost:8080/",
          "height": 1000
        }
      },
      "execution_count": null,
      "outputs": [
        {
          "output_type": "stream",
          "name": "stdout",
          "text": [
            "🔍 Top contributing features to PC1:\n",
            "FamilySize    0.545930\n",
            "SibSp         0.477275\n",
            "Parch         0.450009\n",
            "Age           0.246953\n",
            "IsAlone_1     0.211062\n",
            "IsAlone_0     0.211062\n",
            "Fare          0.202599\n",
            "Title_Mr      0.129256\n",
            "AgeBin_0      0.114096\n",
            "FareBin_3     0.112883\n",
            "Name: PC1, dtype: float64\n",
            "\n",
            "🔍 Top contributing features to PC2:\n",
            "Fare         0.606914\n",
            "Age          0.564328\n",
            "Pclass_3     0.271015\n",
            "Pclass_1     0.268025\n",
            "FareBin_3    0.204780\n",
            "AgeBin_1     0.156943\n",
            "AgeBin_2     0.136649\n",
            "FareBin_0    0.118066\n",
            "SibSp        0.106982\n",
            "AgeBin_3     0.101602\n",
            "Name: PC2, dtype: float64\n"
          ]
        },
        {
          "output_type": "display_data",
          "data": {
            "text/plain": [
              "<Figure size 1000x400 with 1 Axes>"
            ],
            "image/png": "[encoded data removed]"
          },
          "metadata": {}
        },
        {
          "output_type": "display_data",
          "data": {
            "text/plain": [
              "<Figure size 1000x400 with 1 Axes>"
            ],
            "image/png": "[encoded data removed]"
          },
          "metadata": {}
        }
      ]
    },
    {
      "cell_type": "markdown",
      "source": [
        "## 🧠 PCA Component Summary\n",
        "\n",
        "After applying PCA, we examined the top contributing features to understand what each principal component captures.\n",
        "\n",
        "- **PC1** mainly reflects **family-related structure**, with the strongest influence coming from `FamilySize`, followed by `SibSp`, `Parch`, and `Age`.\n",
        "\n",
        "- **PC2** is driven by **socio-economic variables**, primarily `Fare` and `Age`, with additional influence from passenger class (`Pclass_1`, `Pclass_3`).\n",
        "\n",
        "These insights confirm that PCA retains meaningful relationships in the data, making it a valuable step before modeling."
      ],
      "metadata": {
        "id": "2CCOAP-mBtel"
      }
    }
  ]
}